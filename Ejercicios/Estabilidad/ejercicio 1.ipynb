{
 "cells": [
  {
   "cell_type": "code",
   "execution_count": 1,
   "metadata": {},
   "outputs": [],
   "source": [
    "import math\n",
    "import numpy as np\n",
    "import matplotlib.pyplot as plt\n",
    "import scipy                  # http://scipy.org/\n",
    "import scipy.odr, scipy.special, scipy.stats \n",
    "import scipy.signal as signal\n",
    "\n",
    "import sympy as sy\n",
    "\n",
    "\n",
    "import matplotlib.pyplot as plt\n",
    "%matplotlib inline\n",
    "params = {'legend.fontsize': 24,\n",
    "          'figure.figsize': (12, 10),\n",
    "         'axes.labelsize': 24,\n",
    "         'axes.titlesize': 24,\n",
    "         'xtick.labelsize':24,\n",
    "         'ytick.labelsize':24}\n",
    "plt.rcParams.update(params)\n",
    "\n",
    "#Simple sintonizado, una etapa.\n",
    "\n",
    "\n",
    "from __future__ import print_function\n",
    "from ipywidgets import interact, interactive, fixed, interact_manual\n",
    "import ipywidgets as widgets\n",
    "\n",
    "def Yin_Yout(y):\n",
    "    yl = y[1,1].real - y[1,1].imag*1j\n",
    "    for i in range(10):\n",
    "        yin  = y[0,0] - y[0,1]*y[1,0]/(y[1,1]+yl)\n",
    "        yg   = yin.real - yin.imag*1j\n",
    "        yout = y[1,1] - y[0,1]*y[0,1]/(y[0,0]+yg)\n",
    "        yl   = yout.real - yout.imag*1j\n",
    "    return (yin, yout)"
   ]
  },
  {
   "cell_type": "markdown",
   "metadata": {},
   "source": [
    "# Ejercicio con el transistor unilateral\n"
   ]
  },
  {
   "cell_type": "code",
   "execution_count": 11,
   "metadata": {},
   "outputs": [],
   "source": [
    "fo = 100e6\n",
    "BW = 1e6\n",
    "wo = 2*np.pi*fo\n",
    "Qo = 150\n",
    "rg = 100\n",
    "rl = 1e3\n",
    "Nt =20\n",
    "Ytr = np.matrix([ [ 1e-3+5e-12*wo*1j ,  -10e-6-628e-6j  ], \n",
    "                  [50e-3-50e-3j   ,  0.1e-3+5e-12*wo*1j ]])\n",
    "\n",
    "\n"
   ]
  },
  {
   "cell_type": "code",
   "execution_count": 13,
   "metadata": {},
   "outputs": [
    {
     "name": "stdout",
     "output_type": "stream",
     "text": [
      "Q1= 76.5817048399464\n",
      "Q2= 51.0544698932976\n",
      "5000.0\n",
      "L1= 1.02816137654821e-7\n",
      "rp= 9690.19268180590\n"
     ]
    }
   ],
   "source": [
    "#Calculo de los Q\n",
    "x = sy.Symbol('x')\n",
    "ecu = sy.expand((1+x**2)*(1+(1.5*x)**2)-2)\n",
    "x1 = sy.solve(ecu, x)\n",
    "Q2 = x1[1]*fo/BW \n",
    "Q1 = 1.5 * Q1\n",
    "\n",
    "print('Q1=', Q1)\n",
    "print('Q2=', Q2)\n",
    "\n",
    "\n",
    "#Calculo L1 en la salida suponiendo unilateral\n",
    "\n",
    "Rext = 1/Ytr[1,1].real/2 \n",
    "print(Rext)\n",
    "L1 = Rext*(1/Q2 - 1/Qo )/wo\n",
    "print('L1=',L1)\n",
    "print('rp=',Qo*L1*wo)\n"
   ]
  },
  {
   "cell_type": "code",
   "execution_count": 14,
   "metadata": {},
   "outputs": [
    {
     "name": "stdout",
     "output_type": "stream",
     "text": [
      "NT/N1= 14.2181002332288\n",
      "N1= 14.2181002332288\n",
      "NT/(N1+N2)= 4.49615807375741\n",
      "C1= 2.43891624763712e-11\n",
      "L1c= 6.21670505260185e-8\n",
      "L1b= 2.37794094529938e-9\n",
      "L1a= 5.08602092041147e-10\n"
     ]
    }
   ],
   "source": [
    "# Calculo en la entrada usando el inductor(L1)\n",
    "Rext = wo*L1/(1/Q1 - 1/Qo )\n",
    "R = Rext * 2\n",
    "\n",
    "# relacion de vueltas del generado a tope de bobina\n",
    "NT1 = (R/rg)**0.5\n",
    "\n",
    "# relacion de vueltas de la impedancia de entrada del TR a tope de bobina\n",
    "rintr = 1/Ytr[0,0].real  \n",
    "NT12   = (R/rintr)**0.5\n",
    "\n",
    "# Calculo del Capacitor de sintonia en la entrada\n",
    "Cs1 = 1/(wo**2*L1)\n",
    "\n",
    "\n",
    "citr = Ytr[0,0].imag/wo  \n",
    "citrt = citr/NT12**2 \n",
    "C1  = Cs1 - citrt\n",
    "\n",
    "print('NT/N1=',NT1)\n",
    "print('N1=',NT1)\n",
    "\n",
    "print('NT/(N1+N2)=',NT12)\n",
    "print('C1=',C1)\n",
    "      \n",
    "# calculo de los inductores de la entrada\n",
    "L1a = L1 /NT1**2      \n",
    "\n",
    "NT2 = 1/(1/NT12 - 1/NT1)\n",
    "L1b = L1 /NT2**2\n",
    "\n",
    "NT3 = 1/(1-1/NT1-1/NT2)\n",
    "L1c = L1 /NT3**2\n",
    "\n",
    "print('L1c=',L1c)\n",
    "print('L1b=',L1b)\n",
    "print('L1a=',L1a)\n"
   ]
  },
  {
   "cell_type": "code",
   "execution_count": 17,
   "metadata": {},
   "outputs": [
    {
     "name": "stdout",
     "output_type": "stream",
     "text": [
      "Qm= 32.2896819190628   (Si es mayor a 10 puedo aproximar)\n",
      "C2= 6.20960596062324e-11\n",
      "C3= 2.87178935203895e-11\n"
     ]
    }
   ],
   "source": [
    "# calculo del capacitor a la salida\n",
    "# Calculo del Capacitor de sintonia en la entrada\n",
    "Cs2 = 1/(wo**2*L1)\n",
    "\n",
    "cotr = Ytr[1,1].imag/wo  \n",
    "Ct  = Cs2 - cotr\n",
    "\n",
    "# divisor capacitivo\n",
    "Q  = Q2*2\n",
    "rt = 1/Ytr[1,1].real\n",
    "N  = (rt/rl)**0.5\n",
    "Qm = Q/N\n",
    "print('Qm=' ,Qm, '  (Si es mayor a 10 puedo aproximar)' )\n",
    "\n",
    "# aproximando!\n",
    "C3 = Ct*N/(N-1)\n",
    "C2 = Ct*N\n",
    "\n",
    "\n",
    "\n",
    "\n",
    "print('C2=',C2)\n",
    "print('C3=',C3)\n"
   ]
  },
  {
   "cell_type": "markdown",
   "metadata": {},
   "source": [
    "# Ejercicio con el transistor neutralizado"
   ]
  },
  {
   "cell_type": "code",
   "execution_count": 39,
   "metadata": {},
   "outputs": [
    {
     "name": "stdout",
     "output_type": "stream",
     "text": [
      "9.99493042617e-13\n",
      "7.95774715459e-11\n",
      "[[ 0.+0.0029531j   0.+0.000628j  ]\n",
      " [ 0.+0.000628j    0.+0.00013355j]]\n",
      "4.70238390824\n",
      "[[  1.00000000e-03+0.00609469j  -1.00000000e-05+0.j        ]\n",
      " [  5.00000000e-02-0.049372j     1.00000000e-04+0.00327514j]]\n"
     ]
    }
   ],
   "source": [
    "fo = 100e6\n",
    "BW = 1e6\n",
    "wo = 2*np.pi*fo\n",
    "Qo = 150\n",
    "rg = 100\n",
    "rl = 1e3\n",
    "Ytr = np.matrix([ [ 1e-3+5e-12*wo*1j ,  -10e-6-628e-6j  ], \n",
    "                  [50e-3-50e-3j   ,  0.1e-3+5e-12*wo*1j ]])\n",
    "\n",
    "print(-Ytr[0,1].imag/wo)\n",
    "print(-Ytr[1,0].imag/wo)\n",
    "\n",
    "\n",
    "cp = 4.7e-12\n",
    "n  = -wo*cp / Ytr[0,1].imag\n",
    "\n",
    "Yc = np.matrix([ [ wo*cp*1j      ,  wo*cp/n*1j  ], \n",
    "                 [ wo*cp/n*1j    ,  wo*cp/n**2*1j ]])\n",
    "\n",
    "print(Yc)\n",
    "Yt  = Ytr + Yc\n",
    "print(n) \n",
    "print(Yt)"
   ]
  },
  {
   "cell_type": "code",
   "execution_count": 41,
   "metadata": {},
   "outputs": [
    {
     "name": "stdout",
     "output_type": "stream",
     "text": [
      "Q1= 76.5817048399464\n",
      "Q2= 51.0544698932976\n",
      "5000.85418221\n",
      "L1= 1.02833702397922e-7\n",
      "rp= 9691.84811984253\n",
      "Lp= 4.65049634302835e-9\n"
     ]
    }
   ],
   "source": [
    "#Calculo de los Q\n",
    "x = sy.Symbol('x')\n",
    "ecu = sy.expand((1+x**2)*(1+(1.5*x)**2)-2)\n",
    "x1 = sy.solve(ecu, x)\n",
    "Q2 = x1[1]*fo/BW \n",
    "Q1 = 1.5 * Q2\n",
    "\n",
    "print('Q1=', Q1)\n",
    "print('Q2=', Q2)\n",
    "\n",
    "\n",
    "#Calculo L1 en la salida suponiendo unilateral\n",
    "\n",
    "Rext = 1/Yin_Yout(Yt)[1].real/2\n",
    "\n",
    "print(Rext)\n",
    "\n",
    "L1 = Rext*(1/Q2 - 1/Qo )/wo\n",
    "print('L1=',L1)\n",
    "print('rp=',Qo*L1*wo)\n",
    "\n",
    "Lp = L1/n**2\n",
    "print('Lp=',Lp)"
   ]
  },
  {
   "cell_type": "code",
   "execution_count": 24,
   "metadata": {},
   "outputs": [
    {
     "name": "stdout",
     "output_type": "stream",
     "text": [
      "285.687415365\n",
      "NT/N1= 14.2193146661890\n",
      "NT/(N1+N2)= 8.41265560115933\n",
      "C1= 2.45507481376665e-11\n",
      "L1c= 7.98393326072208e-8\n",
      "L1b= 2.42306227992149e-10\n",
      "L1a= 5.08602092041147e-10\n"
     ]
    }
   ],
   "source": [
    "# Calculo en la entrada usando el inductor(L1)\n",
    "Rext = wo*L1/(1/Q1 - 1/Qo )\n",
    "R = Rext * 2\n",
    "\n",
    "# relacion de vueltas del generado a tope de bobina\n",
    "NT1 = (R/rg)**0.5\n",
    "\n",
    "# relacion de vueltas de la impedancia de entrada del TR a tope de bobina\n",
    "rintr = 1/Yin_Yout(Yt)[0].real \n",
    "print(rintr)\n",
    "NT12   = (R/rintr)**0.5\n",
    "\n",
    "# Calculo del Capacitor de sintonia en la entrada\n",
    "Cs1 = 1/(wo**2*L1)\n",
    "\n",
    "\n",
    "citr = Yin_Yout(Yt)[0].imag/wo  \n",
    "citrt = citr/NT12**2 \n",
    "C1  = Cs1 - citrt\n",
    "\n",
    "print('NT/N1=',NT1)\n",
    "print('NT/(N1+N2)=',NT12)\n",
    "print('C1=',C1)\n",
    "      \n",
    "# calculo de los inductores de la entrada\n",
    "L1a = L1 /NT1**2      \n",
    "\n",
    "NT2 = 1/(1/NT12 - 1/NT1)\n",
    "L1b = L1 /NT2**2\n",
    "\n",
    "NT3 = 1/(1-1/NT1-1/NT2)\n",
    "L1c = L1 /NT3**2\n",
    "\n",
    "print('L1c=',L1c)\n",
    "print('L1b=',L1b)\n",
    "print('L1a=',L1a)\n"
   ]
  },
  {
   "cell_type": "code",
   "execution_count": 27,
   "metadata": {},
   "outputs": [
    {
     "name": "stdout",
     "output_type": "stream",
     "text": [
      "Qm= 32.2869241452235   (Si es mayor a 10 puedo aproximar)\n",
      "C2= 6.14158076282448e-11\n",
      "C3= 2.83997461831485e-11\n"
     ]
    }
   ],
   "source": [
    "# calculo del capacitor a la salida\n",
    "# Calculo del Capacitor de sintonia en la entrada\n",
    "Cs2 = 1/(wo**2*L1)\n",
    "\n",
    "cotr = Yin_Yout(Yt)[1].imag/wo  \n",
    "Ct  = Cs2 - cotr\n",
    "\n",
    "# divisor capacitivo\n",
    "Q  = Q2*2\n",
    "rt = 1/Yin_Yout(Yt)[1].real\n",
    "N  = (rt/rl)**0.5\n",
    "Qm = Q/N\n",
    "print('Qm=' ,Qm, '  (Si es mayor a 10 puedo aproximar)' )\n",
    "\n",
    "# aproximando!\n",
    "C3 = Ct*N/(N-1)\n",
    "C2 = Ct*N\n",
    "\n",
    "print('C2=',C2)\n",
    "print('C3=',C3)"
   ]
  },
  {
   "cell_type": "code",
   "execution_count": 37,
   "metadata": {},
   "outputs": [
    {
     "name": "stdout",
     "output_type": "stream",
     "text": [
      "285.687415365 5.7709519502e-12\n",
      "10001.7083644 5.21256519805e-12\n"
     ]
    }
   ],
   "source": [
    "print(1/Yin_Yout(Yt)[0].real,Yin_Yout(Yt)[0].imag/wo )\n",
    "print(1/Yin_Yout(Yt)[1].real,Yin_Yout(Yt)[1].imag/wo )"
   ]
  },
  {
   "cell_type": "code",
   "execution_count": null,
   "metadata": {},
   "outputs": [],
   "source": []
  },
  {
   "cell_type": "code",
   "execution_count": null,
   "metadata": {},
   "outputs": [],
   "source": []
  }
 ],
 "metadata": {
  "kernelspec": {
   "display_name": "Python 3",
   "language": "python",
   "name": "python3"
  },
  "language_info": {
   "codemirror_mode": {
    "name": "ipython",
    "version": 3
   },
   "file_extension": ".py",
   "mimetype": "text/x-python",
   "name": "python",
   "nbconvert_exporter": "python",
   "pygments_lexer": "ipython3",
   "version": "3.5.5"
  }
 },
 "nbformat": 4,
 "nbformat_minor": 2
}
