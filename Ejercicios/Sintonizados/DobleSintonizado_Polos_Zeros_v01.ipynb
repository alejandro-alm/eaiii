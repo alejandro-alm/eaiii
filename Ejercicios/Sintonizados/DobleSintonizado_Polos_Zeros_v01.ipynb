{
 "cells": [
  {
   "cell_type": "code",
   "execution_count": 1,
   "metadata": {},
   "outputs": [],
   "source": [
    "import math\n",
    "import numpy as np\n",
    "import matplotlib.pyplot as plt\n",
    "import scipy                  # http://scipy.org/\n",
    "import scipy.odr, scipy.special, scipy.stats \n",
    "import scipy.signal as signal\n",
    "import sys\n",
    "\n",
    "import matplotlib.pyplot as plt\n",
    "%matplotlib inline\n",
    "params = {'legend.fontsize': 24,\n",
    "          'figure.figsize': (15, 10),\n",
    "         'axes.labelsize': 24,\n",
    "         'axes.titlesize': 24,\n",
    "         'xtick.labelsize':24,\n",
    "         'ytick.labelsize':24}\n",
    "plt.rcParams.update(params)\n",
    "\n",
    "#Simple sintonizado, una etapa.\n",
    "\n",
    "\n",
    "from __future__ import print_function\n",
    "from ipywidgets import interact, interactive, fixed, interact_manual\n",
    "import ipywidgets as widgets\n"
   ]
  },
  {
   "cell_type": "markdown",
   "metadata": {},
   "source": [
    "# Respuesta en frecuencia de un Doble Sintonizado\n",
    "\n",
    "El siguiente código permite graficar el comportamiento de un filtro doble sintonizado. \n",
    "\n",
    "Para el analisis se emplea la respuesta en frecuencia :\n",
    "\n",
    "# $A(S) = \\frac{-S gm M w_o^4  }{(s^2+s\\frac{w_o}{Q_o}+w_o^2)(s^2+s\\frac{w_o}{Q_o}+w_o^2)-k^2 w_o^4 }$ "
   ]
  },
  {
   "cell_type": "code",
   "execution_count": 2,
   "metadata": {},
   "outputs": [],
   "source": [
    "#Parametros variables\n",
    "# \n",
    "wo = 1e3\n",
    "Q  = 10\n",
    "\n",
    "\n",
    "\n",
    "# para las graficas\n",
    "wi = 0.5*wo # inferior \n",
    "ws = 5*wo   # superior\n",
    "# numero de puntos a graficar \n",
    "nump = 500\n",
    "\n",
    "\n",
    "# Calculos \n",
    "fo=wo/(2*np.pi)\n",
    "w = np.arange(wi,ws,(ws-wi)/nump)\n",
    "\n",
    "\n",
    "# Transferencia del doble sintonizado\n",
    "def DS(wo,Q,k,gm=1e-3,M=0.1):\n",
    "    num=[ - gm*M*wo**4, 0    ]   \n",
    "    den=[ 1, 2*wo/Q , 2*wo**2 + (wo/Q)**2,2*wo**2*(wo/Q) ,wo**4*(1-k**2) ]\n",
    "    sys = signal.TransferFunction(num,den)\n",
    "    return sys"
   ]
  },
  {
   "cell_type": "code",
   "execution_count": 3,
   "metadata": {},
   "outputs": [],
   "source": [
    "# Variando K\n",
    "\n",
    "# Calculo del Bode del doble sintonizado\n",
    "def fbode(k):\n",
    "    # Respuesta del doblesintonizado\n",
    "    DSsys = DS(wo,Q,k)\n",
    "    # calculo Bode\n",
    "    ww,mag, phase = signal.bode(DSsys,w) # Diagrama de bode: frecuencias, magnitud y fase\n",
    "    # Plot del Sistema\n",
    "    plt.semilogx(w, mag) # Eje x logarítmico\n",
    "    plt.xlim([wi,ws])\n",
    "    #plt.ylim([10,100])\n",
    "    plt.grid()\n",
    "    plt.show()\n",
    "    \n",
    "# Calculo de Polos y zeros    \n",
    "def fZP(k):\n",
    "    # Respuesta del doblesintonizado\n",
    "    DSsys = DS(wo,Q,k)\n",
    "    # calculo Bode\n",
    "    ww,mag, phase = signal.bode(DSsys,w) # Diagrama de bode: frecuencias, magnitud y fase\n",
    "    # plot de polos y zeros\n",
    "    plt.plot(DSsys.zeros.real, DSsys.zeros.imag, 'o')\n",
    "    plt.plot(DSsys.poles.real, DSsys.poles.imag, 'rx')\n",
    "    plt.grid()\n",
    "    plt.xlim([-(wo/2/Q)*1.2,-(wo/2/Q)*0.8])\n",
    "    #plt.ylim([-1200,1200])\n",
    "    plt.show()\n",
    "    \n",
    "    "
   ]
  },
  {
   "cell_type": "code",
   "execution_count": 4,
   "metadata": {},
   "outputs": [
    {
     "name": "stdout",
     "output_type": "stream",
     "text": [
      "kc = 0.1\n"
     ]
    },
    {
     "data": {
      "application/vnd.jupyter.widget-view+json": {
       "model_id": "747d0318e4c447479422bfd8e31f8dc1",
       "version_major": 2,
       "version_minor": 0
      },
      "text/html": [
       "<p>Failed to display Jupyter Widget of type <code>interactive</code>.</p>\n",
       "<p>\n",
       "  If you're reading this message in the Jupyter Notebook or JupyterLab Notebook, it may mean\n",
       "  that the widgets JavaScript is still loading. If this message persists, it\n",
       "  likely means that the widgets JavaScript library is either not installed or\n",
       "  not enabled. See the <a href=\"https://ipywidgets.readthedocs.io/en/stable/user_install.html\">Jupyter\n",
       "  Widgets Documentation</a> for setup instructions.\n",
       "</p>\n",
       "<p>\n",
       "  If you're reading this message in another frontend (for example, a static\n",
       "  rendering on GitHub or <a href=\"https://nbviewer.jupyter.org/\">NBViewer</a>),\n",
       "  it may mean that your frontend doesn't currently support widgets.\n",
       "</p>\n"
      ],
      "text/plain": [
       "interactive(children=(FloatSlider(value=0.5, description='k', max=1.0, step=0.01), Output()), _dom_classes=('widget-interact',))"
      ]
     },
     "metadata": {},
     "output_type": "display_data"
    },
    {
     "data": {
      "text/plain": [
       "<function __main__.fbode>"
      ]
     },
     "execution_count": 4,
     "metadata": {},
     "output_type": "execute_result"
    }
   ],
   "source": [
    "print('kc =', 1/Q )\n",
    "\n",
    "interact(fbode, k=(0,10/Q,0.1/Q) )"
   ]
  },
  {
   "cell_type": "code",
   "execution_count": 5,
   "metadata": {},
   "outputs": [
    {
     "name": "stdout",
     "output_type": "stream",
     "text": [
      "kc = 0.1\n"
     ]
    },
    {
     "data": {
      "application/vnd.jupyter.widget-view+json": {
       "model_id": "5e79815be8914b34ae167e89f94986ad",
       "version_major": 2,
       "version_minor": 0
      },
      "text/html": [
       "<p>Failed to display Jupyter Widget of type <code>interactive</code>.</p>\n",
       "<p>\n",
       "  If you're reading this message in the Jupyter Notebook or JupyterLab Notebook, it may mean\n",
       "  that the widgets JavaScript is still loading. If this message persists, it\n",
       "  likely means that the widgets JavaScript library is either not installed or\n",
       "  not enabled. See the <a href=\"https://ipywidgets.readthedocs.io/en/stable/user_install.html\">Jupyter\n",
       "  Widgets Documentation</a> for setup instructions.\n",
       "</p>\n",
       "<p>\n",
       "  If you're reading this message in another frontend (for example, a static\n",
       "  rendering on GitHub or <a href=\"https://nbviewer.jupyter.org/\">NBViewer</a>),\n",
       "  it may mean that your frontend doesn't currently support widgets.\n",
       "</p>\n"
      ],
      "text/plain": [
       "interactive(children=(FloatSlider(value=0.5, description='k', max=1.0, step=0.01), Output()), _dom_classes=('widget-interact',))"
      ]
     },
     "metadata": {},
     "output_type": "display_data"
    },
    {
     "data": {
      "text/plain": [
       "<function __main__.fZP>"
      ]
     },
     "execution_count": 5,
     "metadata": {},
     "output_type": "execute_result"
    }
   ],
   "source": [
    "print('kc =', 1/Q )\n",
    "\n",
    "interact(fZP, k=(0,10/Q,0.1/Q) )"
   ]
  },
  {
   "cell_type": "code",
   "execution_count": 6,
   "metadata": {},
   "outputs": [],
   "source": [
    "# Variando Q\n",
    "\n",
    "# Calculo del Bode del doble sintonizado\n",
    "def fbodeQ(Q):\n",
    "    kc = 1/Q\n",
    "    # Respuesta del doblesintonizado\n",
    "    DSsys = DS(wo,Q,kc)\n",
    "    # calculo Bode\n",
    "    ww,mag, phase = signal.bode(DSsys,w) # Diagrama de bode: frecuencias, magnitud y fase\n",
    "    # Plot del Sistema\n",
    "    plt.semilogx(w, mag) # Eje x logarítmico\n",
    "    plt.xlim([wi,ws])\n",
    "    #plt.ylim([10,200])\n",
    "    plt.grid()\n",
    "    plt.show()\n",
    "    \n",
    "# Calculo de Polos y zeros    \n",
    "def fZPQ(Q):\n",
    "    kc = 1/Q\n",
    "    # Respuesta del doblesintonizado\n",
    "    DSsys = DS(wo,Q,kc)\n",
    "    # calculo Bode\n",
    "    ww,mag, phase = signal.bode(DSsys,w) # Diagrama de bode: frecuencias, magnitud y fase\n",
    "    # plot de polos y zeros\n",
    "    plt.plot(DSsys.zeros.real, DSsys.zeros.imag, 'o')\n",
    "    plt.plot(DSsys.poles.real, DSsys.poles.imag, 'rx')\n",
    "    plt.grid()\n",
    "    plt.xlim([-(wo/2/50)*10,-(wo/2/50)*0.1])\n",
    "    #plt.ylim([-1200,1200])\n",
    "    plt.show()\n"
   ]
  },
  {
   "cell_type": "code",
   "execution_count": 7,
   "metadata": {},
   "outputs": [
    {
     "data": {
      "application/vnd.jupyter.widget-view+json": {
       "model_id": "6186c12bc0af4b038884bd3b156d16f1",
       "version_major": 2,
       "version_minor": 0
      },
      "text/html": [
       "<p>Failed to display Jupyter Widget of type <code>interactive</code>.</p>\n",
       "<p>\n",
       "  If you're reading this message in the Jupyter Notebook or JupyterLab Notebook, it may mean\n",
       "  that the widgets JavaScript is still loading. If this message persists, it\n",
       "  likely means that the widgets JavaScript library is either not installed or\n",
       "  not enabled. See the <a href=\"https://ipywidgets.readthedocs.io/en/stable/user_install.html\">Jupyter\n",
       "  Widgets Documentation</a> for setup instructions.\n",
       "</p>\n",
       "<p>\n",
       "  If you're reading this message in another frontend (for example, a static\n",
       "  rendering on GitHub or <a href=\"https://nbviewer.jupyter.org/\">NBViewer</a>),\n",
       "  it may mean that your frontend doesn't currently support widgets.\n",
       "</p>\n"
      ],
      "text/plain": [
       "interactive(children=(IntSlider(value=52, description='Q', min=5), Output()), _dom_classes=('widget-interact',))"
      ]
     },
     "metadata": {},
     "output_type": "display_data"
    },
    {
     "data": {
      "text/plain": [
       "<function __main__.fbodeQ>"
      ]
     },
     "execution_count": 7,
     "metadata": {},
     "output_type": "execute_result"
    }
   ],
   "source": [
    "\n",
    "interact(fbodeQ, Q=(5,100,1) )"
   ]
  },
  {
   "cell_type": "code",
   "execution_count": 8,
   "metadata": {},
   "outputs": [
    {
     "data": {
      "application/vnd.jupyter.widget-view+json": {
       "model_id": "fb1c94da547f4226ab1a442b8c04575b",
       "version_major": 2,
       "version_minor": 0
      },
      "text/html": [
       "<p>Failed to display Jupyter Widget of type <code>interactive</code>.</p>\n",
       "<p>\n",
       "  If you're reading this message in the Jupyter Notebook or JupyterLab Notebook, it may mean\n",
       "  that the widgets JavaScript is still loading. If this message persists, it\n",
       "  likely means that the widgets JavaScript library is either not installed or\n",
       "  not enabled. See the <a href=\"https://ipywidgets.readthedocs.io/en/stable/user_install.html\">Jupyter\n",
       "  Widgets Documentation</a> for setup instructions.\n",
       "</p>\n",
       "<p>\n",
       "  If you're reading this message in another frontend (for example, a static\n",
       "  rendering on GitHub or <a href=\"https://nbviewer.jupyter.org/\">NBViewer</a>),\n",
       "  it may mean that your frontend doesn't currently support widgets.\n",
       "</p>\n"
      ],
      "text/plain": [
       "interactive(children=(IntSlider(value=52, description='Q', min=5), Output()), _dom_classes=('widget-interact',))"
      ]
     },
     "metadata": {},
     "output_type": "display_data"
    },
    {
     "data": {
      "text/plain": [
       "<function __main__.fZPQ>"
      ]
     },
     "execution_count": 8,
     "metadata": {},
     "output_type": "execute_result"
    }
   ],
   "source": [
    "interact(fZPQ, Q=(5,100,1) )"
   ]
  }
 ],
 "metadata": {
  "kernelspec": {
   "display_name": "Python 3",
   "language": "python",
   "name": "python3"
  },
  "language_info": {
   "codemirror_mode": {
    "name": "ipython",
    "version": 3
   },
   "file_extension": ".py",
   "mimetype": "text/x-python",
   "name": "python",
   "nbconvert_exporter": "python",
   "pygments_lexer": "ipython3",
   "version": "3.5.5"
  }
 },
 "nbformat": 4,
 "nbformat_minor": 2
}
