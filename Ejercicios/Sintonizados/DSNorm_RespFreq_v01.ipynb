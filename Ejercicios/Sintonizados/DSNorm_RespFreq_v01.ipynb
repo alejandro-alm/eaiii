{
 "cells": [
  {
   "cell_type": "code",
   "execution_count": 2,
   "metadata": {},
   "outputs": [],
   "source": [
    "import math\n",
    "import numpy as np\n",
    "import matplotlib.pyplot as plt\n",
    "import scipy                  # http://scipy.org/\n",
    "import scipy.odr, scipy.special, scipy.stats \n",
    "import scipy.signal as signal\n",
    "import sys\n",
    "\n",
    "import matplotlib.pyplot as plt\n",
    "%matplotlib inline\n",
    "params = {'legend.fontsize': 24,\n",
    "          'figure.figsize': (12, 10),\n",
    "         'axes.labelsize': 24,\n",
    "         'axes.titlesize': 24,\n",
    "         'xtick.labelsize':24,\n",
    "         'ytick.labelsize':24}\n",
    "plt.rcParams.update(params)\n",
    "\n",
    "#Simple sintonizado, una etapa.\n",
    "\n",
    "\n",
    "from __future__ import print_function\n",
    "from ipywidgets import interact, interactive, fixed, interact_manual\n",
    "import ipywidgets as widgets\n"
   ]
  },
  {
   "cell_type": "markdown",
   "metadata": {},
   "source": [
    "# Respuesta en frecuencia de un Doble Sintonizado\n",
    "\n",
    "El siguiente código permite graficar el comportamiento de un filtro doble sintonizado. \n",
    "\n",
    "Para el analisis se emplea la respuesta en frecuencia :\n",
    "\n",
    "# $A(S) = \\frac{-S gm M w_o^4  }{(s^2+s\\frac{w_o}{Q_o}+w_o^2)(s^2+s\\frac{w_o}{Q_o}+w_o^2)-k^2 w_o^4 }$ \n",
    "\n",
    "# $\\chi = 2Q\\frac{ (w - w_o) }{ w_o} $\n",
    "\n",
    "# $A(\\chi) = \\frac{j gm M w_o Q^2  }{(1+j(\\chi+h))(1+j(\\chi-h)) }$ \n",
    "\n",
    "# $A(\\chi_o) = \\frac{j gm M w_o Q^2  }{(1+j(h))(1+j(h)) } = \\frac{j gm M w_o Q^2  }{(1+h^2) } $ \n",
    "\n",
    "# $\\bar{A}(\\chi) = \\frac{A(\\chi)}{A(\\chi_o)} = \\frac{1+h^2 }{ (1+j(\\chi+h))(1+j(\\chi-h)) } $ \n",
    "\n",
    "# $| \\bar{A}(\\chi) | =  \\frac{1+h^2 }{\\sqrt{\\chi^4+2\\chi^2(1-h^2)+(1+h^2)^2} } $ \n"
   ]
  },
  {
   "cell_type": "code",
   "execution_count": 34,
   "metadata": {},
   "outputs": [],
   "source": [
    "#Parametros variables\n",
    "# \n",
    "wo = 455e3*2*np.pi\n",
    "Q  = 200\n",
    "\n",
    "\n",
    "\n",
    "# para las graficas\n",
    "wi = 0.9*wo # inferior \n",
    "ws = 1.1*wo   # superior\n",
    "# numero de puntos a graficar \n",
    "nump = 500\n",
    "\n",
    "\n",
    "# Calculos \n",
    "fo=wo/(2*np.pi)\n",
    "w = np.arange(wi,ws,(ws-wi)/nump)\n",
    "\n",
    "\n",
    "# Transferencia un doble sintonizado \n",
    "def DS(w,wo,Q,h):\n",
    "    X = 2*Q*(w-wo)/wo\n",
    "    return (1+h**2)/(X**4+2*X**2*(1-h**2)+(1+h**2)**2)**.5 \n",
    "\n",
    "def dB(m):\n",
    "    return 20*np.log10(m)"
   ]
  },
  {
   "cell_type": "code",
   "execution_count": 35,
   "metadata": {},
   "outputs": [],
   "source": [
    "# Variando K\n",
    "\n",
    "# Calculo del Bode del doble sintonizado\n",
    "def fbode(h):\n",
    "    # Respuesta del doblesintonizado\n",
    "    mag = [dB(DS(wi,wo,Q,h)) for wi in w]\n",
    "    # Plot del Sistema\n",
    "    plt.semilogx(w, mag) # Eje x logarítmico\n",
    "    plt.xlim([wi,ws])\n",
    "    #plt.ylim([10,100])\n",
    "    plt.grid()\n",
    "    plt.show()\n",
    "    "
   ]
  },
  {
   "cell_type": "code",
   "execution_count": 36,
   "metadata": {},
   "outputs": [
    {
     "data": {
      "application/vnd.jupyter.widget-view+json": {
       "model_id": "b8d8ce5dbc7f4d13a8293ebf8ebf4a03",
       "version_major": 2,
       "version_minor": 0
      },
      "text/html": [
       "<p>Failed to display Jupyter Widget of type <code>interactive</code>.</p>\n",
       "<p>\n",
       "  If you're reading this message in the Jupyter Notebook or JupyterLab Notebook, it may mean\n",
       "  that the widgets JavaScript is still loading. If this message persists, it\n",
       "  likely means that the widgets JavaScript library is either not installed or\n",
       "  not enabled. See the <a href=\"https://ipywidgets.readthedocs.io/en/stable/user_install.html\">Jupyter\n",
       "  Widgets Documentation</a> for setup instructions.\n",
       "</p>\n",
       "<p>\n",
       "  If you're reading this message in another frontend (for example, a static\n",
       "  rendering on GitHub or <a href=\"https://nbviewer.jupyter.org/\">NBViewer</a>),\n",
       "  it may mean that your frontend doesn't currently support widgets.\n",
       "</p>\n"
      ],
      "text/plain": [
       "interactive(children=(FloatSlider(value=2.0, description='h', max=5.0), Output()), _dom_classes=('widget-interact',))"
      ]
     },
     "metadata": {},
     "output_type": "display_data"
    },
    {
     "data": {
      "text/plain": [
       "<function __main__.fbode>"
      ]
     },
     "execution_count": 36,
     "metadata": {},
     "output_type": "execute_result"
    }
   ],
   "source": [
    "\n",
    "interact(fbode, h=(0,5,0.1) )"
   ]
  },
  {
   "cell_type": "code",
   "execution_count": null,
   "metadata": {},
   "outputs": [],
   "source": []
  }
 ],
 "metadata": {
  "kernelspec": {
   "display_name": "Python 3",
   "language": "python",
   "name": "python3"
  },
  "language_info": {
   "codemirror_mode": {
    "name": "ipython",
    "version": 3
   },
   "file_extension": ".py",
   "mimetype": "text/x-python",
   "name": "python",
   "nbconvert_exporter": "python",
   "pygments_lexer": "ipython3",
   "version": "3.5.5"
  }
 },
 "nbformat": 4,
 "nbformat_minor": 2
}
