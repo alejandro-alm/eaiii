{
 "cells": [
  {
   "cell_type": "code",
   "execution_count": 5,
   "metadata": {},
   "outputs": [],
   "source": [
    "import math\n",
    "import numpy as np\n",
    "import matplotlib.pyplot as plt\n",
    "import scipy                  # http://scipy.org/\n",
    "import scipy.constants as const\n",
    "\n",
    "import scipy.odr, scipy.special, scipy.stats \n",
    "import scipy.signal as signal\n",
    "import sys\n",
    "\n",
    "import matplotlib.pyplot as plt\n",
    "%matplotlib inline\n",
    "params = {'legend.fontsize': 24,\n",
    "          'figure.figsize': (15, 10),\n",
    "         'axes.labelsize': 24,\n",
    "         'axes.titlesize': 24,\n",
    "         'xtick.labelsize':24,\n",
    "         'ytick.labelsize':24}\n",
    "plt.rcParams.update(params)\n",
    "\n"
   ]
  },
  {
   "cell_type": "code",
   "execution_count": 22,
   "metadata": {},
   "outputs": [
    {
     "name": "stdout",
     "output_type": "stream",
     "text": [
      "k =  1.38064852e-23\n",
      "T =  290\n",
      "kT =  4.003880707999999e-21\n",
      "kT=  -173.975188704 dBm\n"
     ]
    }
   ],
   "source": [
    "k = const.k # Boltzmann\n",
    "T  = 290 # Kelvins \n",
    "kT = k * T\n",
    "\n",
    "print('k = ',k)\n",
    "print('T = ',T)\n",
    "print('kT = ',kT )\n",
    "\n",
    "\n",
    "print('kT= ',10*np.log10(kT/1e-3), 'dBm')"
   ]
  },
  {
   "cell_type": "code",
   "execution_count": 24,
   "metadata": {},
   "outputs": [
    {
     "name": "stdout",
     "output_type": "stream",
     "text": [
      "kT =  4.003880707999999e-19\n",
      "kT=  -153.975188704 dBm\n"
     ]
    }
   ],
   "source": [
    "print('kT = ',kT*100 )\n",
    "\n",
    "print('kT= ',10*np.log10(kT*100/1e-3), 'dBm')"
   ]
  },
  {
   "cell_type": "code",
   "execution_count": 25,
   "metadata": {},
   "outputs": [
    {
     "name": "stdout",
     "output_type": "stream",
     "text": [
      "1.2655245091265517e-08\n"
     ]
    }
   ],
   "source": [
    "R =  100\n",
    "B = 1e3\n",
    "\n",
    "print((4*R*kT*100)**0.5)\n"
   ]
  },
  {
   "cell_type": "code",
   "execution_count": null,
   "metadata": {},
   "outputs": [],
   "source": []
  }
 ],
 "metadata": {
  "kernelspec": {
   "display_name": "Python 3",
   "language": "python",
   "name": "python3"
  },
  "language_info": {
   "codemirror_mode": {
    "name": "ipython",
    "version": 3
   },
   "file_extension": ".py",
   "mimetype": "text/x-python",
   "name": "python",
   "nbconvert_exporter": "python",
   "pygments_lexer": "ipython3",
   "version": "3.5.5"
  }
 },
 "nbformat": 4,
 "nbformat_minor": 2
}
