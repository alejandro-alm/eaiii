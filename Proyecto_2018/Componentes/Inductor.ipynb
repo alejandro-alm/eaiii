{
 "cells": [
  {
   "cell_type": "code",
   "execution_count": 2,
   "metadata": {},
   "outputs": [],
   "source": [
    "import math\n",
    "import numpy as np\n",
    "import cmath \n"
   ]
  },
  {
   "cell_type": "code",
   "execution_count": 16,
   "metadata": {},
   "outputs": [],
   "source": [
    "# l = largo total del inductor en cm\n",
    "# D = diametro del indutor en cm\n",
    "# L = inductancia en uHy\n",
    "def turns(L,lt,D):\n",
    "    n = (L/1e-6*lt/1e-2*1e3/((D/1e-2)**2*math.pi**2))**0.5\n",
    "    return n\n",
    "# Qo\n",
    "def Qoa(L,lt,D,f):\n",
    "    return 8550*(f/1e6)**0.5*D/1e-2*lt/1e-2/(102*lt/1e-2+45*lt/1e-2)\n",
    "\n",
    "# Qo\n",
    "def Qob(L,lt,D,f,p):\n",
    "    return 1080*(f/1e6)**0.5*D/1e-2*p/1e-3/(D/1e-2+20*p/1e-3)\n",
    "\n",
    "\n",
    "# Callendar\n",
    "def Qoc(L,lt,D,f):\n",
    "    return (f)**0.5/(13.8/(D/1e-2)+5.4/(lt/1e-2))"
   ]
  },
  {
   "cell_type": "code",
   "execution_count": 41,
   "metadata": {},
   "outputs": [
    {
     "name": "stdout",
     "output_type": "stream",
     "text": [
      "364.73007791892684\n",
      "N= 54.01897896942637\n",
      "290.81632653061223\n",
      "231.00432025686763\n",
      "291.12081513828235\n"
     ]
    }
   ],
   "source": [
    "print( 3.6473007791892685e-07/1e-9)\n",
    "L = 9e-6\n",
    "fo = 100e6\n",
    "D  = 5e-3 \n",
    "lt = 8e-3\n",
    "\n",
    "\n",
    "\n",
    "\n",
    "n = turns(L,lt,D)\n",
    "p = lt/n\n",
    "print('N=',n)\n",
    "print(Qoa(L,lt,D,fo ))\n",
    "print(Qob(L,lt,D,fo,p ))\n",
    "print(Qoc(L,lt,D,fo ))\n",
    "          \n",
    "          \n",
    "          "
   ]
  },
  {
   "cell_type": "code",
   "execution_count": 20,
   "metadata": {},
   "outputs": [
    {
     "name": "stdout",
     "output_type": "stream",
     "text": [
      "364.73007791892684\n",
      "N= 17.19415789265825\n",
      "290.81632653061223\n",
      "264.3190702158354\n",
      "330.03300330033005\n"
     ]
    }
   ],
   "source": [
    "print( 3.6473007791892685e-07/1e-9)\n",
    "L = 3.6473007791892685e-07\n",
    "fo = 100e6\n",
    "D  = 5e-3 \n",
    "lt = 20e-3\n",
    "\n",
    "n = turns(L,lt,D)\n",
    "p = lt/n\n",
    "print('N=',n)\n",
    "print(Qoa(L,lt,D,fo ))\n",
    "print(Qob(L,lt,D,fo,p ))\n",
    "print(Qoc(L,lt,D,fo ))"
   ]
  },
  {
   "cell_type": "code",
   "execution_count": null,
   "metadata": {},
   "outputs": [],
   "source": []
  }
 ],
 "metadata": {
  "kernelspec": {
   "display_name": "Python 3",
   "language": "python",
   "name": "python3"
  },
  "language_info": {
   "codemirror_mode": {
    "name": "ipython",
    "version": 3
   },
   "file_extension": ".py",
   "mimetype": "text/x-python",
   "name": "python",
   "nbconvert_exporter": "python",
   "pygments_lexer": "ipython3",
   "version": "3.5.5"
  }
 },
 "nbformat": 4,
 "nbformat_minor": 2
}
