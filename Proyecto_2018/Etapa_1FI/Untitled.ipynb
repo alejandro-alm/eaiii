{
 "cells": [
  {
   "cell_type": "code",
   "execution_count": 178,
   "metadata": {},
   "outputs": [],
   "source": [
    "import math\n",
    "import numpy as np\n",
    "import cmath \n",
    "\n",
    "import matplotlib.pyplot as plt\n",
    "\n",
    "\n",
    "import matplotlib.pyplot as plt\n",
    "%matplotlib inline\n",
    "params = {'legend.fontsize': 24,\n",
    "          'figure.figsize': (15, 10),\n",
    "         'axes.labelsize': 24,\n",
    "         'axes.titlesize': 24,\n",
    "         'xtick.labelsize':24,\n",
    "         'ytick.labelsize':24}\n",
    "plt.rcParams.update(params)"
   ]
  },
  {
   "cell_type": "code",
   "execution_count": 179,
   "metadata": {},
   "outputs": [],
   "source": [
    "def getSpice(y):\n",
    "    print( '.param g11= {0.real:6.4E}' .format(y[0,0]) )\n",
    "    print( '.param g12= {0.real:6.4E}' .format(y[0,1]) )\n",
    "    print( '.param g21= {0.real:6.4E}' .format(y[1,0]) )\n",
    "    print( '.param g22= {0.real:6.4E}' .format(y[1,1]) )\n",
    "    print( '.param c11= {0:6.4E}' .format(y[0,0].imag/(wo)) )\n",
    "    print( '.param c12= {0:6.4E}' .format((y[0,1].imag)/(wo)) )\n",
    "    print( '.param c21= {0:6.4E}' .format((y[1,0].imag)/(wo)) )\n",
    "    print( '.param c22= {0:6.4E}' .format(y[1,1].imag/(wo)) )\n",
    "\n",
    "def getComp(y):\n",
    "    print( '.param gg= {0.real:6.4}' .format(y) )\n",
    "    print( '.param cg= {0:6.4E}' .format((y.imag)/(wo)) )\n",
    "    \n",
    "    \n"
   ]
  },
  {
   "cell_type": "code",
   "execution_count": 180,
   "metadata": {},
   "outputs": [],
   "source": [
    "def yin(y,ys):\n",
    "    return y[0,0] - (y[0,1]*y[1,0])/(y[1,1]+ys)\n",
    "\n",
    "def yout(y,ys):\n",
    "    return y[1,1] - (y[0,1]*y[1,0])/(y[0,0]+ys)\n",
    "\n",
    "def ydw(y,wo,w):\n",
    "    b = y.imag\n",
    "    yw = y.real +1j*b*(w/wo)\n",
    "    #if b < 0  : yw = y.real +1j*b*(wo/w)    \n",
    "    #if b == 0 : yw = y.real\n",
    "    return yw\n",
    "\n",
    "def gbw(g,bc,bl,wo,w):\n",
    "    y = (g + 1j * (bc*(w/wo) -bl*(wo/w)))\n",
    "    return y\n",
    "    \n",
    "def ycdw(y,wo,w):\n",
    "    y11w = ydw(y[0,0],wo,w)\n",
    "    y12w = ydw(y[0,1],wo,w)\n",
    "    y21w = ydw(y[1,0],wo,w)\n",
    "    y22w = ydw(y[1,1],wo,w)\n",
    "    yt = np.matrix([[y11w, y12w],[ y21w, y22w]])\n",
    "    return yt\n",
    "\n",
    "def RLC(y,Qo,Qc,wo):    \n",
    "    g  = y.real\n",
    "    rext = (1/y.real)/2\n",
    "    bl   = (1/Qc-1/Qo)*rext\n",
    "    bc   =  bl\n",
    "    if y.imag > 0 : bc = bc - abs(y.imag)\n",
    "    if y.imag < 0 : bl = bl - abs(y.imag)\n",
    "    gp  = 1/(bl*Qo)\n",
    "    return (g,bc,bl,gp)\n"
   ]
  },
  {
   "cell_type": "code",
   "execution_count": 182,
   "metadata": {},
   "outputs": [
    {
     "name": "stdout",
     "output_type": "stream",
     "text": [
      ".param g11= 5.0000E-03\n",
      ".param g12= -1.2000E-05\n",
      ".param g21= 5.5000E-03\n",
      ".param g22= 4.0000E-05\n",
      ".param c11= 2.3873E-12\n",
      ".param c12= -3.1831E-14\n",
      ".param c21= -6.0479E-13\n",
      ".param c22= 1.1141E-12\n"
     ]
    }
   ],
   "source": [
    "Qo = 100\n",
    "\n",
    "wo = 2*math.pi*10.7e6\n",
    "\n",
    "Qa = 10\n",
    "wa = 2*math.pi*10.7e6\n",
    "Qb = 10\n",
    "wb = 2*math.pi*10.7e6\n",
    "\n",
    "# MMBT918 Ic = 4mA, VCE=10V, fo=10.7MHz\n",
    "y11 =   1.30e-3  + 0.80e-3*1j\n",
    "y12 = - 0.01e-3  - 0.08e-3*1j\n",
    "y21 =     95e-3  -   19e-3*1j \n",
    "y22 =   0.08e-3  + 0.20e-3*1j\n",
    "\n",
    "# neutralizado\n",
    "y11= 1.30E-03+1j*(1.28E-03)\n",
    "y12= -1.00E-05+1j*(0.00E+00)\n",
    "y21= 9.50E-02-1j*(1.89E-02)\n",
    "y22= 8.00E-05+1j*(2.13E-04)\n",
    "\n",
    "fo = 100e6\n",
    "wo = 2*np.pi*fo\n",
    "\n",
    "y11 =   5.00e-3 + 1.50e-3*1j\n",
    "y12 = - 0.012e-3 - 0.02e-3*1j\n",
    "y21 =   5.50e-3 - 0.38e-3*1j \n",
    "y22 =   0.04e-3 + 0.70e-3*1j\n",
    "\n",
    "\n",
    "ytr = np.matrix([[y11, y12],[ y21, y22]])\n",
    "\n",
    "getSpice(ytr)\n"
   ]
  },
  {
   "cell_type": "code",
   "execution_count": 183,
   "metadata": {},
   "outputs": [
    {
     "name": "stdout",
     "output_type": "stream",
     "text": [
      "176.020513308 4.33112006154e-12\n",
      "21577.8806606 1.14350526883e-12\n",
      "175.756373909 4.24979250897e-12\n",
      "21967.2824003 1.12903374285e-12\n",
      "175.755051193 4.24953220207e-12\n",
      "21969.3696163 1.12898244937e-12\n",
      "175.755044523 4.24953141882e-12\n",
      "21969.3805042 1.12898226048e-12\n",
      "175.755044486 4.24953140959e-12\n",
      "21969.3805606 1.12898225977e-12\n",
      "(0.00568973711635+0.000285696348472j)\n",
      "(4.55178969312e-05+7.59015707894e-05j)\n",
      "175.755044486 4.24953140959e-12\n",
      "21969.3805606 1.12898225977e-12\n",
      ".param rg= 1.7576E+02\n",
      ".param cg= 1.1764E-07\n",
      ".param lg= 1.8807E-09\n",
      ".param rgp= 7.9090E+02\n",
      ".param rl= 2.1969E+04\n",
      ".param cl= 1.4705E-05\n",
      ".param ll= 1.5045E-11\n",
      ".param rlp= 9.8862E+04\n",
      "|yia|= 1.3686E-02, <yio=  -90.0\n"
     ]
    }
   ],
   "source": [
    "yga  = ytr[0,0].real - 1j* ytr[0,0].imag\n",
    "# yg evaluado en wb\n",
    "ygb  = ydw(yga,wa,wb)\n",
    "for n in range(5):\n",
    "    # el transistor evaluado en wb\n",
    "    ytrb = ycdw(ytr,wo,wb)\n",
    "    # salida del transistor en wb\n",
    "    yob  = yout(ytrb,ygb)\n",
    "    # Calculo los componentes\n",
    "    (gb,bcb,blb,gpb) = RLC(yob,Qo,Qb,wb)\n",
    "    # la carga que sintonia la salida\n",
    "    ylb = gb + gpb + 1j *(bcb - blb)\n",
    "    # la admitancia de la salida evaluada en wa\n",
    "    yla  = gbw(gb+gpb,bcb,blb,wb,wa)\n",
    "    # el transistor evaluado en wa\n",
    "    ytra = ycdw(ytr,wo,wa)\n",
    "    # entrada del transistor en wa\n",
    "    yia  = yin(ytra,yla)\n",
    "    # Calculo los componentes\n",
    "    (ga,bca,bla,gpa) = RLC(yia,Qo,Qa,wa)\n",
    "    # la carga que sintonia la salida\n",
    "    yga = ga + gpa + 1j *(bca - bla)\n",
    "    # yg evaluado en wb\n",
    "    ygb  = gbw(ga+gpa,bca,bla,wa,wb)  \n",
    "    print(1/yia.real, yia.imag/wa)\n",
    "    print(1/yob.real, yob.imag/wb)\n",
    "    \n",
    "print(yia)\n",
    "print(yob)\n",
    "    \n",
    "    \n",
    "print(1/yia.real, yia.imag/wa)\n",
    "print(1/yob.real, yob.imag/wb)\n",
    "    \n",
    "print( '.param rg= {0:6.4E}'     .format(1/ga) )\n",
    "print( '.param cg= {0:6.4E}'     .format(bca/wa) )\n",
    "print( '.param lg= {0:6.4E}'     .format(1/(bla*wa)) )    \n",
    "print( '.param rgp= {0:6.4E}'     .format(1/gpa) )\n",
    "\n",
    "\n",
    "print( '.param rl= {0:6.4E}'     .format(1/gb) )\n",
    "print( '.param cl= {0:6.4E}'     .format(bcb/wb) )\n",
    "print( '.param ll= {0:6.4E}'     .format(1/(blb*wb)) )    \n",
    "print( '.param rlp= {0:6.4E}'     .format(1/gpb) )\n",
    "\n",
    "\n",
    "\n",
    "yli  = gbw(gb+gpb,bcb,blb,wb,wo)\n",
    "#ytri = ycdw(ytr,wo,wo)\n",
    "ygi  = gbw(ga+gpa,bca,bla,wa,wo)\n",
    "yia  = yin(ytr,yli) + ygi\n",
    "    \n",
    "\n",
    "\n",
    "print( '|yia|= {0:6.4E}, <yio= {1:6.1F}' .format(abs(1/yia), cmath.phase(1/yia)*180./np.pi) )"
   ]
  },
  {
   "cell_type": "code",
   "execution_count": 184,
   "metadata": {},
   "outputs": [
    {
     "data": {
      "image/png": "[encoded data removed]",
      "text/plain": [
       "<matplotlib.figure.Figure at 0x7f39e034a9e8>"
      ]
     },
     "metadata": {},
     "output_type": "display_data"
    }
   ],
   "source": [
    "f  = np.arange(10.69e6,10.71e6,1e2)\n",
    "w  = 2*math.pi*f\n",
    "ym = list()\n",
    "for wi in w:\n",
    "    yli  = gbw(gb+gpb,bcb,blb,wb,wi)\n",
    "    ytri = ycdw(ytr,wo,wi)\n",
    "    ygi  = gbw(ga+gpa,bca,bla,wa,wi)\n",
    "    yia  = yin(ytri,yli) + ygi\n",
    "    \n",
    "    \n",
    "    ym.append(yia)\n",
    "plt.plot(f, [abs(y) for y in ym])\n",
    "    \n",
    "plt.show()"
   ]
  },
  {
   "cell_type": "code",
   "execution_count": 185,
   "metadata": {
    "scrolled": true
   },
   "outputs": [
    {
     "name": "stdout",
     "output_type": "stream",
     "text": [
      ".param rl= 1.9581E+04\n",
      ".param cl= 1.3106E-05\n",
      ".param ll= 1.6881E-11\n",
      ".param rp= 8.8114E+04\n",
      "|yia|= 5.6505E-03, <yio=    2.8\n"
     ]
    }
   ],
   "source": [
    "ygb  = ydw(yg,wo,wb)\n",
    "ytrb = ycdw(ytr,wo,wb)\n",
    "yob  = yout(ytrb,ygb)\n",
    "(gb,bcb,blb,gpb) = RLC(yob,Qo,Qc,wb)\n",
    "\n",
    "print( '.param rl= {0:6.4E}'     .format(1/gb) )\n",
    "print( '.param cl= {0:6.4E}'     .format(bcb/wb) )\n",
    "print( '.param ll= {0:6.4E}'     .format(1/(blb*wb)) )    \n",
    "print( '.param rp= {0:6.4E}'     .format(1/gpb) )\n",
    "\n",
    "\n",
    "ylb = gb + gpb + 1j *(bcb - blb)\n",
    "yla  = ydw(ylb,wb,wa)\n",
    "ytra = ycdw(ytr,wo,wa)\n",
    "yia  = yin(ytra,yla)\n",
    "\n",
    "\n",
    "print( '|yia|= {0:6.4E}, <yio= {1:6.1F}' .format(abs(yia), cmath.phase(yia)*180./np.pi) )"
   ]
  },
  {
   "cell_type": "code",
   "execution_count": null,
   "metadata": {},
   "outputs": [],
   "source": []
  },
  {
   "cell_type": "code",
   "execution_count": null,
   "metadata": {},
   "outputs": [],
   "source": []
  },
  {
   "cell_type": "code",
   "execution_count": null,
   "metadata": {},
   "outputs": [],
   "source": []
  }
 ],
 "metadata": {
  "kernelspec": {
   "display_name": "Python 3",
   "language": "python",
   "name": "python3"
  }
 },
 "nbformat": 4,
 "nbformat_minor": 2
}
