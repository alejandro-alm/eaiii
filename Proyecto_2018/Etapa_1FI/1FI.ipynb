{
 "cells": [
  {
   "cell_type": "code",
   "execution_count": 1,
   "metadata": {},
   "outputs": [],
   "source": [
    "import math\n",
    "import numpy as np\n",
    "import cmath \n",
    "\n"
   ]
  },
  {
   "cell_type": "code",
   "execution_count": 12,
   "metadata": {},
   "outputs": [],
   "source": [
    "fo = 10.7e6\n",
    "wo = 2*np.pi*fo\n",
    "# Qo de los transformadores\n",
    "Qo = 100\n",
    "\n",
    "# MMBT918 Ic = 8mA, VCE=10V, fo=10.7MHz\n",
    "y11 =   1.80e-3  + 0.85e-3*1j\n",
    "y12 = - 0.01e-3  - 0.08e-3*1j\n",
    "y21 =    110e-3  -   20e-3*1j \n",
    "y22 =   0.25e-3  + 0.12e-3*1j\n",
    "\n",
    "ytr = np.matrix([[y11, y12],[ y21, y22]])\n",
    "# MMBT918 Ic = 4mA, VCE=10V, fo=10.7MHz\n",
    "y11 =   1.30e-3  + 0.80e-3*1j\n",
    "y12 = - 0.01e-3  - 0.08e-3*1j\n",
    "y21 =     95e-3  -   19e-3*1j \n",
    "y22 =   0.08e-3  + 0.20e-3*1j\n",
    "\n",
    "\n"
   ]
  },
  {
   "cell_type": "code",
   "execution_count": 13,
   "metadata": {},
   "outputs": [],
   "source": [
    "def printY(y):\n",
    "    print( 'y11= {0.real:4.2E}+j({0.imag:4.2E})' .format(y[0,0]) )\n",
    "    print( 'y12= {0.real:4.2E}+j({0.imag:4.2E})' .format(y[0,1]) )\n",
    "    print( 'y21= {0.real:4.2E}+j({0.imag:4.2E})' .format(y[1,0]) )\n",
    "    print( 'y22= {0.real:4.2E}+j({0.imag:4.2E})' .format(y[1,1]) )\n",
    "\n",
    "def printYp(y):\n",
    "    print('Polar')\n",
    "    print( '|y11|= {0:6.4E}, <y11= {1:6.1F}' .format(abs(y[0,0]), cmath.phase(ytr[0,0])*180./np.pi) )\n",
    "    print( '|y12|= {0:6.4E}, <y12= {1:6.1F}' .format(abs(y[0,1]), cmath.phase(ytr[0,1])*180./np.pi) )\n",
    "    print( '|y21|= {0:6.4E}, <y21= {1:6.1F}' .format(abs(y[1,0]), cmath.phase(ytr[1,0])*180./np.pi) )\n",
    "    print( '|y22|= {0:6.4E}, <y22= {1:6.1F}' .format(abs(y[1,1]), cmath.phase(ytr[1,1])*180./np.pi) )\n",
    "\n",
    "    \n",
    "def getSpice(y):\n",
    "    print( '.param g11= {0.real:6.4}' .format(y[0,0]) )\n",
    "    print( '.param g12= {0.real:6.4E}' .format(y[0,1]) )\n",
    "    print( '.param g21= {0.real:6.4E}' .format(y[1,0]) )\n",
    "    print( '.param g22= {0.real:6.4E}' .format(y[1,1]) )\n",
    "    print( '.param c11= {0:6.4E}' .format(y[0,0].imag/(wo)) )\n",
    "    print( '.param c12= {0:6.4E}' .format((y[0,1].imag)/(wo)) )\n",
    "    print( '.param c21= {0:6.4E}' .format((y[1,0].imag)/(wo)) )\n",
    "    print( '.param c22= {0:6.4E}' .format(y[1,1].imag/(wo)) )\n",
    "    \n",
    "def printInOut(yg,yl):\n",
    "    print('######## Entrada #########')\n",
    "    print( 'rin= {0:4.2E}' .format(1/yg.real) )\n",
    "    print( 'cin= {0:4.2E}' .format(-yg.imag/wo) )\n",
    "    print('######## Salida #########')\n",
    "    print( 'ro= {0:4.2E}' .format(1/yl.real) )\n",
    "    print( 'co= {0:4.2E}' .format(-yl.imag/wo) )\n"
   ]
  },
  {
   "cell_type": "code",
   "execution_count": 16,
   "metadata": {},
   "outputs": [],
   "source": [
    "def linvill(y):\n",
    "    ya = y[0,1]*y[1,0]\n",
    "    C = ( abs(ya) + ya.real )/ (2*y[0,0].real*y[1,1].real)\n",
    "    print('###############  LINVILL   #####################')\n",
    "    print( 'coeficiente de linvill C= {:4.2F}' .format(C))\n",
    "    if C <= 1: print( 'si C es menor a uno es incondicionalmente estable')\n",
    "    else    : print( 'si C es mayor o igula a 1 es potencialmente inestable')\n",
    "    \n",
    "    \n",
    "def stern(y, yg, yl):\n",
    "    ya = y[0,1]* y[1,0]\n",
    "    K = (2*(yg.real+y[0,0].real)*(yl.real+y[1,1].real))/( abs(ya) + ya.real )\n",
    "    print('###############  Stern   #####################')\n",
    "    print('coeficiente de Stern K=', K)\n",
    "    print('si k es MAYOR a 1 no oscilara' )   \n",
    "\n",
    "def Ar(y,yg,yo): # vo/ig\n",
    "    ya = y[0,1]* y[1,0]\n",
    "    Ar = -y[1,0]/((y[0,0]+yg)*(y[1,1]+yl)-ya)\n",
    "    print('###############  Ganancia de transresistencia (vo/ig)   #########')\n",
    "    print( 'vo/ig = {:4.2F}' .format(abs(Ar)))\n",
    "    print( 'vo/ig = {:4.2F} dB' .format(20*np.log10(abs(Ar)))) \n",
    "    \n",
    "def At(y,yg,yl) :  \n",
    "    ya = y[0,1]* y[1,0]\n",
    "    pgain = 4*yg.real*yl.real*abs(y[1,0])**2 / (abs((yl+y[1,1])*(y[0,0]+yg)-ya))**2\n",
    "    print('###############  Ganancia de potencia   #####################')\n",
    "    print( 'Power Gain = {:4.2F}' .format(pgain))\n",
    "    print( 'Power Gain = {:4.2F} dB' .format(10*np.log10(pgain)))    \n",
    "    \n",
    "    \n",
    "def neutraliza(y,wo,n = 1):\n",
    "    Cn = -y[0,1].imag/wo*n\n",
    "    y11 =  wo*Cn*1j\n",
    "    y12 =  wo*Cn*1j/n\n",
    "    y21 =  wo*Cn*1j/n\n",
    "    y22 =  wo*Cn*1j/n**2\n",
    "    yn  = np.matrix([[y11, y12],[ y21, y22]])\n",
    "    # cuadripolo resultante\n",
    "    yt  = y + yn\n",
    "    print('cap=',Cn, 'n=', n)\n",
    "    return (yt,Cn)\n",
    "\n",
    "def yg_yl(y):\n",
    "    yl = y[1,1].real - y[1,1].imag*1j\n",
    "    for i in range(10):\n",
    "        yin  = y[0,0] - y[0,1]*y[1,0]/(y[1,1]+yl)\n",
    "        yg   = yin.real - yin.imag*1j\n",
    "        yout = y[1,1] - y[0,1]*y[0,1]/(y[0,0]+yg)\n",
    "        yl   = yout.real - yout.imag*1j\n",
    "    return (yg, yl)\n",
    "\n",
    "\n",
    "def divC(Q,wo,Rin,RL):\n",
    "    Qm = ((RL/Rin)*(1+Q**2)-1)**0.5\n",
    "    C  = Q/Rin/wo\n",
    "    Cs = C*(1+1/Q**2)\n",
    "    Cb = Qm/R/wo\n",
    "    Cbs = Cb*(1+1/Qm**2)\n",
    "    Ca = 1/(1/Cs-1/Cbs)\n",
    "    return(Ca,Cb)\n",
    "\n",
    "\n",
    "def yf(Qc,L,wo,w):\n",
    "    return (wo*L*Qc)*(1+1j*Qc*(w/wo-w/w))\n",
    "\n",
    "def yin(y,yl):\n",
    "    return y[0,0] - (y[0,1]*y[1,0])/(y[1,1]+yl)\n",
    "\n",
    "def yout(y,yg):\n",
    "    return y[1,1] - (y[0,1]*y[1,0])/(y[0,0]+yg)"
   ]
  },
  {
   "cell_type": "code",
   "execution_count": 19,
   "metadata": {},
   "outputs": [
    {
     "name": "stdout",
     "output_type": "stream",
     "text": [
      "y11= 1.80E-03+j(8.50E-04)\n",
      "y12= -1.00E-05+j(-8.00E-05)\n",
      "y21= 1.10E-01+j(-2.00E-02)\n",
      "y22= 2.50E-04+j(1.20E-04)\n",
      "(0.00271777380759+0.00343813501822j)\n",
      "0.00289926953683\n",
      "###############  LINVILL   #####################\n",
      "coeficiente de linvill C= 7.02\n",
      "si C es mayor o igula a 1 es potencialmente inestable\n",
      "###############  Stern   #####################\n",
      "coeficiente de Stern K= 2.56305677735\n",
      "si k es MAYOR a 1 no oscilara\n",
      "######## Entrada #########\n",
      "rin= 1.39E+02\n",
      "cin= 2.68E-10\n",
      "######## Salida #########\n",
      "ro= 4.00E+03\n",
      "co= 1.79E-12\n"
     ]
    }
   ],
   "source": [
    "printY(ytr)\n",
    "print(yin(ytr,1/330))\n",
    "print(yout(ytr,2/3e3).imag)\n",
    "\n",
    "# calculo linvill del transistor\n",
    "linvill(ytr)\n",
    "# stern \n",
    "stern(ytr, 2/3e3, 1/330) \n",
    "\n",
    "# admitancia de entrada y de salida para MTE\n",
    "(yg,yl) = yg_yl(ytr) \n",
    "printInOut(yg,yl)"
   ]
  },
  {
   "cell_type": "code",
   "execution_count": 8,
   "metadata": {},
   "outputs": [
    {
     "name": "stdout",
     "output_type": "stream",
     "text": [
      "cap= 7.13966099851e-12 n= 6\n",
      "y11= 1.30E-03+j(1.28E-03)\n",
      "y12= -1.00E-05+j(0.00E+00)\n",
      "y21= 9.50E-02+j(-1.89E-02)\n",
      "y22= 8.00E-05+j(2.13E-04)\n",
      "###############  LINVILL   #####################\n",
      "coeficiente de linvill C= 0.09\n",
      "si C es menor a uno es incondicionalmente estable\n",
      "######## Entrada #########\n",
      "rin= 2.65E+02\n",
      "cin= 5.76E-12\n",
      "######## Salida #########\n",
      "ro= 4.30E+03\n",
      "co= 2.35E-12\n",
      "###############  Stern   #####################\n",
      "coeficiente de Stern K= 169.926888366\n",
      "si k es MAYOR a 1 no oscilara\n"
     ]
    }
   ],
   "source": [
    "# neutralizador\n",
    "nf = 6\n",
    "(yu,Cp) = neutraliza(ytr,wo,nf)\n",
    "\n",
    "printY(yu)\n",
    "\n",
    "# calculo linvill del transistor\n",
    "linvill(yu)\n",
    "\n",
    "# admitancia de entrada y de salida para MTE\n",
    "yg = (0.00377534048972-0.000386925950314*1j)\n",
    "yl = (0.000232328645525-0.000158041596945*1j)\n",
    "printInOut(yg,yl)\n",
    "\n",
    "# stern \n",
    "stern(yu, yg, yl)\n",
    "\n",
    "\n",
    "#Ar(yu,yg,yl)\n",
    "#At(yu,yg,yl)"
   ]
  },
  {
   "cell_type": "markdown",
   "metadata": {},
   "source": [
    "Tengo 3 etapas sintonizadas, realizadas con 2 transistores.\n",
    "\n",
    "1 SS : Qca = 53.5 foa = 10.52679 MHz\n",
    "\n",
    "2 SS : Qcc = 53.5 fob = 10.87320 MHz\n",
    "\n",
    "3 SS : Qcb = 26.7 foc = 10.70000 MHz"
   ]
  },
  {
   "cell_type": "code",
   "execution_count": 230,
   "metadata": {},
   "outputs": [],
   "source": [
    "rg = 1500\n",
    "rl = 1500\n",
    "\n",
    "Qo =100\n",
    "\n",
    "#[(53.500000000000007, 10526794.919243112), (26.75, 10700000.0), (53.500000000000007, 10873205.080756888)]\n",
    "Qca = 53.5\n",
    "Qcb = 53.5\n",
    "Qcc = 26.75\n",
    "woa = 10526794.91*2*math.pi\n",
    "wob = 10873205.08*2*math.pi\n",
    "woc = wo\n",
    "\n",
    "\n",
    "# dado el transistor\n",
    "ri = 1/yg.real\n",
    "bi = -yg.imag\n",
    "ro = 1/yl.real\n",
    "bo = -yl.imag\n"
   ]
  },
  {
   "cell_type": "code",
   "execution_count": 238,
   "metadata": {},
   "outputs": [
    {
     "name": "stdout",
     "output_type": "stream",
     "text": [
      "Lb = 7.95250830402e-07\n",
      "Lbs= 8.78854242492e-09\n",
      "Cb= 2.66257336544e-10\n"
     ]
    }
   ],
   "source": [
    "# calculo del segundo sintonizado\n",
    "Qsb = 1/(1/Qcb-1/Qo)\n",
    "#ybin = yin(yu,yf())\n",
    "\n",
    "rextb = ro/2\n",
    "\n",
    "Lb = (1/Qsb)*rextb/wob \n",
    "\n",
    "# transformador\n",
    "ns  = (ro/ri)**0.5\n",
    "Lbs = Lb / ns**2\n",
    "np  = 1 \n",
    "\n",
    "\n",
    "Cb = 1/(wob**2*Lb)- (bo/ns**2)/wob - (bo/np**2)/wob\n",
    "\n",
    "print('Lb =',Lb)\n",
    "print('Lbs=',Lbs)\n",
    "print('Cb=',Cb)"
   ]
  },
  {
   "cell_type": "code",
   "execution_count": 239,
   "metadata": {},
   "outputs": [
    {
     "name": "stdout",
     "output_type": "stream",
     "text": [
      "Lap1= 9.85563030074e-08\n",
      "Lap2= 3.50920870361e-07\n",
      "Las= 9.07775110633e-09\n",
      "Ca= 2.78263967412e-10\n"
     ]
    }
   ],
   "source": [
    "# calculo del primer sintonizado\n",
    "Qsa = 1/(1/Qca-1/Qo)\n",
    "\n",
    "rexta = ro/2\n",
    "\n",
    "La = (1/Qsa)*rexta/woa \n",
    "# transformador\n",
    "ns  = (ro/ri)**0.5\n",
    "Las = La / ns**2\n",
    "np  = (ro/rg)**0.5\n",
    "Lap1= La/ np**2\n",
    "Lap2= La/ (np/(np-1))**2\n",
    "\n",
    "\n",
    "\n",
    "Ca = 1/(woa**2*La)- (bi/ns**2)/woa\n",
    "\n",
    "print('Lap1=',Lap1)\n",
    "print('Lap2=',Lap2)\n",
    "print('Las=',Las)\n",
    "print('Ca=',Ca)"
   ]
  },
  {
   "cell_type": "code",
   "execution_count": 240,
   "metadata": {},
   "outputs": [
    {
     "name": "stdout",
     "output_type": "stream",
     "text": [
      "Lc= 2.54602465392e-06\n",
      "Lcs= 3.05479070176e-07\n",
      "Cc= 8.67241063725e-11\n"
     ]
    }
   ],
   "source": [
    "# calculo del tercer sintonizado\n",
    "Qsc = 1/(1/Qcc-1/Qo)\n",
    "\n",
    "rextc = ro/2\n",
    "\n",
    "Lc = (1/Qsc)*rextc/woc \n",
    "# transformador\n",
    "ns  = (ro/rl)**0.5\n",
    "Lcs = Lc / ns**2\n",
    "np  = 1\n",
    "\n",
    "\n",
    "\n",
    "Cc = 1/(woc**2*Lc)- (bi/ns**2)/woc\n",
    "\n",
    "print('Lc=',Lc)\n",
    "print('Lcs=',Lcs)\n",
    "print('Cc=',Cc)"
   ]
  },
  {
   "cell_type": "code",
   "execution_count": 241,
   "metadata": {},
   "outputs": [
    {
     "name": "stdout",
     "output_type": "stream",
     "text": [
      ".param g11= 0.0013\n",
      ".param g12= -1.0000E-05\n",
      ".param g21= 9.5000E-02\n",
      ".param g22= 8.0000E-05\n",
      ".param c11= 1.9039E-11\n",
      ".param c12= 0.0000E+00\n",
      ".param c21= -2.8142E-10\n",
      ".param c22= 3.1732E-12\n"
     ]
    }
   ],
   "source": [
    "getSpice(yu)"
   ]
  },
  {
   "cell_type": "code",
   "execution_count": 242,
   "metadata": {},
   "outputs": [
    {
     "name": "stdout",
     "output_type": "stream",
     "text": [
      ".param Lap1= 9.8556E-08\n",
      ".param Lap2= 3.5092E-07\n",
      ".param Las = 9.0778E-09\n",
      ".param Ca  = 2.7826E-10\n",
      ".param rpa= 6.0042E+01\n"
     ]
    }
   ],
   "source": [
    "# sintonizado entrada\n",
    "print( '.param Lap1= {0:6.4E}' .format(Lap1))\n",
    "print( '.param Lap2= {0:6.4E}' .format(Lap2))\n",
    "print( '.param Las = {0:6.4E}' .format(Las))\n",
    "print( '.param Ca  = {0:6.4E}' .format(Ca))\n",
    "print( '.param rpa= {0:6.4E}' .format(Qo*Las*woa))\n"
   ]
  },
  {
   "cell_type": "code",
   "execution_count": 243,
   "metadata": {},
   "outputs": [
    {
     "name": "stdout",
     "output_type": "stream",
     "text": [
      ".param Lb  = 7.9525E-07\n",
      ".param Lbf = 2.2090E-08\n",
      ".param Cp  = 7.1397E-12\n",
      ".param Lbs = 8.7885E-09\n",
      ".param Cb  = 2.6626E-10\n",
      ".param rpb = 6.0042E+01\n"
     ]
    }
   ],
   "source": [
    "# sintonizado intermedio\n",
    "print( '.param Lb  = {0:6.4E}' .format(Lb))\n",
    "print( '.param Lbf = {0:6.4E}' .format(Lb/nf**2))\n",
    "print( '.param Cp  = {0:6.4E}' .format(Cp))\n",
    "\n",
    "print( '.param Lbs = {0:6.4E}' .format(Lbs))\n",
    "print( '.param Cb  = {0:6.4E}' .format(Cb))\n",
    "print( '.param rpb = {0:6.4E}' .format(Qo*Lbs*wob))\n"
   ]
  },
  {
   "cell_type": "code",
   "execution_count": 244,
   "metadata": {},
   "outputs": [
    {
     "name": "stdout",
     "output_type": "stream",
     "text": [
      ".param Lc  = 2.5460E-06\n",
      ".param Lcf = 7.0723E-08\n",
      ".param Lcs = 3.0548E-07\n",
      ".param Cc  = 8.6724E-11\n",
      ".param rpc = 2.0537E+03\n"
     ]
    }
   ],
   "source": [
    "# sintonizado tercer\n",
    "print( '.param Lc  = {0:6.4E}' .format(Lc))\n",
    "print( '.param Lcf = {0:6.4E}' .format(Lc/nf**2))\n",
    "print( '.param Lcs = {0:6.4E}' .format(Lcs))\n",
    "print( '.param Cc  = {0:6.4E}' .format(Cc))\n",
    "print( '.param rpc = {0:6.4E}' .format(Qo*Lcs*woc))"
   ]
  },
  {
   "cell_type": "code",
   "execution_count": null,
   "metadata": {},
   "outputs": [],
   "source": []
  },
  {
   "cell_type": "code",
   "execution_count": null,
   "metadata": {},
   "outputs": [],
   "source": []
  }
 ],
 "metadata": {
  "kernelspec": {
   "display_name": "Python 3",
   "language": "python",
   "name": "python3"
  },
  "language_info": {
   "codemirror_mode": {
    "name": "ipython",
    "version": 3
   },
   "file_extension": ".py",
   "mimetype": "text/x-python",
   "name": "python",
   "nbconvert_exporter": "python",
   "pygments_lexer": "ipython3",
   "version": "3.5.5"
  }
 },
 "nbformat": 4,
 "nbformat_minor": 2
}
