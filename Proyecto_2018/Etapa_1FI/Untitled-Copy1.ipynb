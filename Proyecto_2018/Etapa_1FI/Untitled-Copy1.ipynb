{
 "cells": [
  {
   "cell_type": "code",
   "execution_count": 1,
   "metadata": {},
   "outputs": [],
   "source": [
    "import math\n",
    "import numpy as np\n",
    "import cmath \n",
    "\n",
    "import matplotlib.pyplot as plt\n",
    "\n",
    "\n",
    "import matplotlib.pyplot as plt\n",
    "%matplotlib inline\n",
    "params = {'legend.fontsize': 24,\n",
    "          'figure.figsize': (15, 10),\n",
    "         'axes.labelsize': 24,\n",
    "         'axes.titlesize': 24,\n",
    "         'xtick.labelsize':24,\n",
    "         'ytick.labelsize':24}\n",
    "plt.rcParams.update(params)"
   ]
  },
  {
   "cell_type": "code",
   "execution_count": 2,
   "metadata": {},
   "outputs": [],
   "source": [
    "def getSpice(y):\n",
    "    print( '.param g11= {0.real:6.4E}' .format(y[0,0]) )\n",
    "    print( '.param g12= {0.real:6.4E}' .format(y[0,1]) )\n",
    "    print( '.param g21= {0.real:6.4E}' .format(y[1,0]) )\n",
    "    print( '.param g22= {0.real:6.4E}' .format(y[1,1]) )\n",
    "    print( '.param c11= {0:6.4E}' .format(y[0,0].imag/(wo)) )\n",
    "    print( '.param c12= {0:6.4E}' .format((y[0,1].imag)/(wo)) )\n",
    "    print( '.param c21= {0:6.4E}' .format((y[1,0].imag)/(wo)) )\n",
    "    print( '.param c22= {0:6.4E}' .format(y[1,1].imag/(wo)) )\n",
    "\n",
    "def getComp(y):\n",
    "    print( '.param gg= {0.real:6.4}' .format(y) )\n",
    "    print( '.param cg= {0:6.4E}' .format((y.imag)/(wo)) )\n",
    "    \n",
    "    \n"
   ]
  },
  {
   "cell_type": "code",
   "execution_count": 24,
   "metadata": {},
   "outputs": [],
   "source": [
    "def yin(y,ys):\n",
    "    return y[0,0] - (y[0,1]*y[1,0])/(y[1,1]+ys)\n",
    "\n",
    "def yout(y,ys):\n",
    "    return y[1,1] - (y[0,1]*y[1,0])/(y[0,0]+ys)\n",
    "\n",
    "def ydw(y,wo,w):\n",
    "    b = y.imag\n",
    "    yw = y.real +1j*b*(w/wo)\n",
    "    #if b < 0  : yw = y.real +1j*b*(wo/w)    \n",
    "    #if b == 0 : yw = y.real\n",
    "    return yw\n",
    "\n",
    "def gbw(g,bc,bl,wo,w):\n",
    "    y = (g + 1j * (bc*(w/wo) -bl*(wo/w)))\n",
    "    return y\n",
    "    \n",
    "def ycdw(y,wo,w):\n",
    "    y11w = ydw(y[0,0],wo,w)\n",
    "    y12w = ydw(y[0,1],wo,w)\n",
    "    y21w = ydw(y[1,0],wo,w)\n",
    "    y22w = ydw(y[1,1],wo,w)\n",
    "    yt = np.matrix([[y11w, y12w],[ y21w, y22w]])\n",
    "    return yt\n",
    "\n",
    "def RLC(y,Qo,Qc,wo):    \n",
    "    g  = y.real\n",
    "    rext = (1/y.real)/2\n",
    "    bl   = (1/Qc-1/Qo)*rext\n",
    "    bc   =  bl\n",
    "    if y.imag > 0 : bc = bc - abs(y.imag)\n",
    "    if y.imag < 0 : bl = bl - abs(y.imag)\n",
    "    gp  = 1/(bl*Qo)\n",
    "    return (g,bc,bl,gp)\n",
    "\n",
    "\n",
    "def divC(Q,wo,Rin,RL):\n",
    "    Qm = ((RL/Rin)*(1+Q**2)-1)**0.5\n",
    "    C  = Q/Rin/wo\n",
    "    Cs = C*(1+1/Q**2)\n",
    "    Cb = Qm/RL/wo\n",
    "    Cbs = Cb*(1+1/Qm**2)\n",
    "    Ca = 1/(1/Cs-1/Cbs)\n",
    "    return(Ca,Cb)"
   ]
  },
  {
   "cell_type": "code",
   "execution_count": 49,
   "metadata": {},
   "outputs": [
    {
     "name": "stdout",
     "output_type": "stream",
     "text": [
      ".param g11= 5.0000E-03\n",
      ".param g12= -1.2000E-05\n",
      ".param g21= 5.5000E-03\n",
      ".param g22= 4.0000E-05\n",
      ".param c11= 2.3873E-12\n",
      ".param c12= -3.1831E-14\n",
      ".param c21= -6.0479E-13\n",
      ".param c22= 1.1141E-12\n"
     ]
    }
   ],
   "source": [
    "Qo = 150\n",
    "\n",
    "wo = 2*math.pi*100e6\n",
    "\n",
    "Qa = 40\n",
    "wa = wo\n",
    "Qb = 40\n",
    "wb = wo\n",
    "\n",
    "fo = 100e6\n",
    "wo = 2*np.pi*fo\n",
    "\n",
    "y11 =   5.00e-3 + 1.50e-3*1j\n",
    "y12 = - 0.012e-3 - 0.02e-3*1j\n",
    "y21 =   5.50e-3 - 0.38e-3*1j \n",
    "y22 =   0.04e-3 + 0.70e-3*1j\n",
    "\n",
    "\n",
    "ytr = np.matrix([[y11, y12],[ y21, y22]])\n",
    "\n",
    "getSpice(ytr)\n"
   ]
  },
  {
   "cell_type": "code",
   "execution_count": 57,
   "metadata": {},
   "outputs": [
    {
     "name": "stdout",
     "output_type": "stream",
     "text": [
      "(0.00556911072233+0.00243806077535j)\n",
      "(4.45528858582e-05+0.000707504486268j)\n",
      "179.561881575 3.88029423955e-12\n",
      "22445.2351568 1.12602836249e-12\n",
      "22445.2351568\n",
      "179.561881575 22445.2351568\n",
      "11.1803398775 7.73543128728e-12 6.18834504087e-14 6.41355872096e-12\n",
      ".param rg= 5.0000E+01\n",
      ".param c1= 8.1117E-12\n",
      ".param c2= 1.6078E-10\n",
      ".param l1= 6.1883E-14\n",
      ".param l2= 6.4136E-12\n",
      ".param rgp= 3.0862E+04\n",
      ".param rl= 5.0000E+01\n",
      ".param c3= 8.1117E-12\n",
      ".param c4= 1.6078E-10\n",
      ".param ll= 7.7354E-12\n",
      ".param rlp= 3.0862E+04\n",
      "8.11166114939 160.779693411\n",
      "|yia|= 6.5839E+01, <yio=    0.0\n"
     ]
    }
   ],
   "source": [
    "yga  = ytr[0,0].real - 1j* ytr[0,0].imag\n",
    "# yg evaluado en wb\n",
    "ygb  = ydw(yga,wa,wb)\n",
    "for n in range(5):\n",
    "    # el transistor evaluado en wb\n",
    "    ytrb = ycdw(ytr,wo,wb)\n",
    "    # salida del transistor en wb\n",
    "    yob  = yout(ytrb,ygb)\n",
    "    # Calculo los componentes\n",
    "    (gb,bcb,blb,gpb) = RLC(yob,Qo,Qb,wb)\n",
    "    # la carga que sintonia la salida\n",
    "    ylb = gb + gpb + 1j *(bcb - blb)\n",
    "    # la admitancia de la salida evaluada en wa\n",
    "    yla  = gbw(gb+gpb,bcb,blb,wb,wa)\n",
    "    # el transistor evaluado en wa\n",
    "    ytra = ycdw(ytr,wo,wa)\n",
    "    # entrada del transistor en wa\n",
    "    yia  = yin(ytra,yla)\n",
    "    # Calculo los componentes\n",
    "    (ga,bca,bla,gpa) = RLC(yia,Qo,Qa,wa)\n",
    "    # la carga que sintonia la salida\n",
    "    yga = ga + gpa + 1j *(bca - bla)\n",
    "    # yg evaluado en wb\n",
    "    ygb  = gbw(ga+gpa,bca,bla,wa,wb)  \n",
    "    #print(1/yia.real, yia.imag/wa)\n",
    "    #print(1/yob.real, yob.imag/wb)\n",
    "    \n",
    "print(yia)\n",
    "print(yob)\n",
    "    \n",
    "    \n",
    "print(1/yia.real, yia.imag/wa)\n",
    "print(1/yob.real, yob.imag/wb)\n",
    "    \n",
    "\n",
    "Q = (1/Qb-1/Qo)**(-1)\n",
    "print(1/gb)\n",
    "\n",
    "(C1,C2) = divC(Q*2,wa,1/gb,50)\n",
    "(C3,C4) = divC(Q*2,wb,1/gb,50)    \n",
    "print(1/ga,1/gb)\n",
    "n = (ga/gb)**0.5\n",
    "ls = 1/(blb*wb)\n",
    "l1 = ls/n**2\n",
    "l2 = ls*((n-1)/n)**2\n",
    "\n",
    "print(n,ls,l1,l2)\n",
    "print( '.param rg= {0:6.4E}'     .format(50) )\n",
    "print( '.param c1= {0:6.4E}'     .format(C1) )\n",
    "print( '.param c2= {0:6.4E}'     .format(C2) )\n",
    "print( '.param l1= {0:6.4E}'     .format(l1 ))    \n",
    "print( '.param l2= {0:6.4E}'     .format(l2 ) )   \n",
    "print( '.param rgp= {0:6.4E}'     .format(1/gpb) )\n",
    "\n",
    "\n",
    "print( '.param rl= {0:6.4E}'     .format(50) )\n",
    "print( '.param c3= {0:6.4E}'     .format(C3) )\n",
    "print( '.param c4= {0:6.4E}'     .format(C4) )\n",
    "\n",
    "print( '.param ll= {0:6.4E}'     .format(1/(blb*wb)) )    \n",
    "print( '.param rlp= {0:6.4E}'     .format(1/gpb) )\n",
    "print(C3/1e-12,C4/1e-12)\n",
    "\n",
    "\n",
    "yli  = gbw(gb+gpb,bcb,blb,wb,wo)\n",
    "#ytri = ycdw(ytr,wo,wo)\n",
    "ygi  = gbw(ga+gpa,bca,bla,wa,wo)\n",
    "yia  = yin(ytr,yli) + ygi\n",
    "    \n",
    "\n",
    "\n",
    "print( '|yia|= {0:6.4E}, <yio= {1:6.1F}' .format(abs(1/yia), cmath.phase(1/yia)*180./np.pi) )"
   ]
  },
  {
   "cell_type": "code",
   "execution_count": 41,
   "metadata": {},
   "outputs": [
    {
     "data": {
      "image/png": "[encoded data removed]",
      "text/plain": [
       "<matplotlib.figure.Figure at 0x7f38c45e5d68>"
      ]
     },
     "metadata": {},
     "output_type": "display_data"
    }
   ],
   "source": [
    "f  = np.arange(99.9e6,100.1e6,1e2)\n",
    "w  = 2*math.pi*f\n",
    "ym = list()\n",
    "for wi in w:\n",
    "    yli  = gbw(gb+gpb,bcb,blb,wb,wi)\n",
    "    ytri = ycdw(ytr,wo,wi)\n",
    "    ygi  = gbw(ga+gpa,bca,bla,wa,wi)\n",
    "    yia  = yin(ytri,yli) + ygi\n",
    "    \n",
    "    \n",
    "    ym.append(yia)\n",
    "plt.plot(f, [abs(y) for y in ym])\n",
    "    \n",
    "plt.show()"
   ]
  },
  {
   "cell_type": "code",
   "execution_count": 23,
   "metadata": {
    "scrolled": true
   },
   "outputs": [
    {
     "ename": "NameError",
     "evalue": "name 'yg' is not defined",
     "output_type": "error",
     "traceback": [
      "\u001b[0;31m---------------------------------------------------------------------------\u001b[0m",
      "\u001b[0;31mNameError\u001b[0m                                 Traceback (most recent call last)",
      "\u001b[0;32m<ipython-input-23-fdf261a13e1b>\u001b[0m in \u001b[0;36m<module>\u001b[0;34m()\u001b[0m\n\u001b[0;32m----> 1\u001b[0;31m \u001b[0mygb\u001b[0m  \u001b[0;34m=\u001b[0m \u001b[0mydw\u001b[0m\u001b[0;34m(\u001b[0m\u001b[0myg\u001b[0m\u001b[0;34m,\u001b[0m\u001b[0mwo\u001b[0m\u001b[0;34m,\u001b[0m\u001b[0mwb\u001b[0m\u001b[0;34m)\u001b[0m\u001b[0;34m\u001b[0m\u001b[0m\n\u001b[0m\u001b[1;32m      2\u001b[0m \u001b[0mytrb\u001b[0m \u001b[0;34m=\u001b[0m \u001b[0mycdw\u001b[0m\u001b[0;34m(\u001b[0m\u001b[0mytr\u001b[0m\u001b[0;34m,\u001b[0m\u001b[0mwo\u001b[0m\u001b[0;34m,\u001b[0m\u001b[0mwb\u001b[0m\u001b[0;34m)\u001b[0m\u001b[0;34m\u001b[0m\u001b[0m\n\u001b[1;32m      3\u001b[0m \u001b[0myob\u001b[0m  \u001b[0;34m=\u001b[0m \u001b[0myout\u001b[0m\u001b[0;34m(\u001b[0m\u001b[0mytrb\u001b[0m\u001b[0;34m,\u001b[0m\u001b[0mygb\u001b[0m\u001b[0;34m)\u001b[0m\u001b[0;34m\u001b[0m\u001b[0m\n\u001b[1;32m      4\u001b[0m \u001b[0;34m(\u001b[0m\u001b[0mgb\u001b[0m\u001b[0;34m,\u001b[0m\u001b[0mbcb\u001b[0m\u001b[0;34m,\u001b[0m\u001b[0mblb\u001b[0m\u001b[0;34m,\u001b[0m\u001b[0mgpb\u001b[0m\u001b[0;34m)\u001b[0m \u001b[0;34m=\u001b[0m \u001b[0mRLC\u001b[0m\u001b[0;34m(\u001b[0m\u001b[0myob\u001b[0m\u001b[0;34m,\u001b[0m\u001b[0mQo\u001b[0m\u001b[0;34m,\u001b[0m\u001b[0mQc\u001b[0m\u001b[0;34m,\u001b[0m\u001b[0mwb\u001b[0m\u001b[0;34m)\u001b[0m\u001b[0;34m\u001b[0m\u001b[0m\n\u001b[1;32m      5\u001b[0m \u001b[0;34m\u001b[0m\u001b[0m\n",
      "\u001b[0;31mNameError\u001b[0m: name 'yg' is not defined"
     ]
    }
   ],
   "source": [
    "ygb  = ydw(yg,wo,wb)\n",
    "ytrb = ycdw(ytr,wo,wb)\n",
    "yob  = yout(ytrb,ygb)\n",
    "(gb,bcb,blb,gpb) = RLC(yob,Qo,Qc,wb)\n",
    "\n",
    "print( '.param rl= {0:6.4E}'     .format(1/gb) )\n",
    "print( '.param cl= {0:6.4E}'     .format(bcb/wb) )\n",
    "print( '.param ll= {0:6.4E}'     .format(1/(blb*wb)) )    \n",
    "print( '.param rp= {0:6.4E}'     .format(1/gpb) )\n",
    "\n",
    "\n",
    "ylb = gb + gpb + 1j *(bcb - blb)\n",
    "yla  = ydw(ylb,wb,wa)\n",
    "ytra = ycdw(ytr,wo,wa)\n",
    "yia  = yin(ytra,yla)\n",
    "\n",
    "\n",
    "print( '|yia|= {0:6.4E}, <yio= {1:6.1F}' .format(abs(yia), cmath.phase(yia)*180./np.pi) )"
   ]
  },
  {
   "cell_type": "code",
   "execution_count": 67,
   "metadata": {},
   "outputs": [],
   "source": [
    "Q = 1/(1/Qa - 1/Qo)\n",
    "r = 12e3\n",
    "rext = r/2\n",
    "\n",
    "L = ( (rext/Q)/wo )\n",
    "C = 1/(wo**2*L)\n",
    "n = (r/50)**0.5\n",
    "C1 = C *n/(n-1)\n",
    "C2 = C * n"
   ]
  },
  {
   "cell_type": "code",
   "execution_count": 70,
   "metadata": {},
   "outputs": [
    {
     "name": "stdout",
     "output_type": "stream",
     "text": [
      "15.467023247737117 224.14707056781813 175.0704374010849\n"
     ]
    }
   ],
   "source": [
    "print(C1/1e-12,C2/1e-12,L/1e-9)"
   ]
  },
  {
   "cell_type": "code",
   "execution_count": null,
   "metadata": {},
   "outputs": [],
   "source": []
  }
 ],
 "metadata": {
  "kernelspec": {
   "display_name": "Python 3",
   "language": "python",
   "name": "python3"
  }
 },
 "nbformat": 4,
 "nbformat_minor": 2
}
