{
 "cells": [
  {
   "cell_type": "code",
   "execution_count": 1,
   "metadata": {},
   "outputs": [],
   "source": [
    "import math\n",
    "import numpy as np\n",
    "import cmath \n",
    "import skrf as rf\n"
   ]
  },
  {
   "cell_type": "code",
   "execution_count": 77,
   "metadata": {},
   "outputs": [],
   "source": [
    "fo = 100e6\n",
    "wo = 2*np.pi*fo\n",
    "\n",
    "y11 =   5.00e-3 + 1.50e-3*1j\n",
    "y12 = - 0.012e-3 - 0.02e-3*1j\n",
    "y21 =   5.50e-3 - 0.38e-3*1j \n",
    "y22 =   0.04e-3 + 0.70e-3*1j\n",
    "\n",
    "ytr = np.matrix([[y11, y12],[ y21, y22]])\n"
   ]
  },
  {
   "cell_type": "code",
   "execution_count": 78,
   "metadata": {},
   "outputs": [],
   "source": [
    "def printY(y):\n",
    "    print( 'y11= {0.real:4.2E}+j({0.imag:4.2E})' .format(y[0,0]) )\n",
    "    print( 'y12= {0.real:4.2E}+j({0.imag:4.2E})' .format(y[0,1]) )\n",
    "    print( 'y21= {0.real:4.2E}+j({0.imag:4.2E})' .format(y[1,0]) )\n",
    "    print( 'y22= {0.real:4.2E}+j({0.imag:4.2E})' .format(y[1,1]) )\n",
    "\n",
    "def printYp(y):\n",
    "    print('Polar')\n",
    "    print( '|y11|= {0:6.4E}, <y11= {1:6.1F}' .format(abs(y[0,0]), cmath.phase(ytr[0,0])*180./np.pi) )\n",
    "    print( '|y12|= {0:6.4E}, <y12= {1:6.1F}' .format(abs(y[0,1]), cmath.phase(ytr[0,1])*180./np.pi) )\n",
    "    print( '|y21|= {0:6.4E}, <y21= {1:6.1F}' .format(abs(y[1,0]), cmath.phase(ytr[1,0])*180./np.pi) )\n",
    "    print( '|y22|= {0:6.4E}, <y22= {1:6.1F}' .format(abs(y[1,1]), cmath.phase(ytr[1,1])*180./np.pi) )\n",
    "\n",
    "    \n",
    "def getSpice(y):\n",
    "    print( '.param g11= {0.real:6.4}' .format(y[0,0]) )\n",
    "    print( '.param g12= {0.real:6.4E}' .format(y[0,1]) )\n",
    "    print( '.param g21= {0.real:6.4E}' .format(y[1,0]) )\n",
    "    print( '.param g22= {0.real:6.4E}' .format(y[1,1]) )\n",
    "    print( '.param c11= {0:6.4E}' .format(y[0,0].imag/(wo)) )\n",
    "    print( '.param c12= {0:6.4E}' .format((y[0,1].imag)/(wo)) )\n",
    "    print( '.param c21= {0:6.4E}' .format((y[1,0].imag)/(wo)) )\n",
    "    print( '.param c22= {0:6.4E}' .format(y[1,1].imag/(wo)) )\n",
    "    \n",
    "def printInOut(yg,yl):\n",
    "    print('######## Entrada #########')\n",
    "    print( 'rin= {0:4.2E}' .format(1/yg.real) )\n",
    "    print( 'cin= {0:4.2E}' .format(-yg.imag/wo) )\n",
    "    print('######## Salida #########')\n",
    "    print( 'ro= {0:4.2E}' .format(1/yl.real) )\n",
    "    print( 'co= {0:4.2E}' .format(-yl.imag/wo) )\n"
   ]
  },
  {
   "cell_type": "code",
   "execution_count": 87,
   "metadata": {},
   "outputs": [],
   "source": [
    "def linvill(y):\n",
    "    ya = y[0,1]*y[1,0]\n",
    "    C = ( abs(ya) + ya.real )/ (2*y[0,0].real*y[1,1].real)\n",
    "    print('###############  LINVILL   #####################')\n",
    "    print( 'coeficiente de linvill C= {:4.2F}' .format(C))\n",
    "    if C <= 1: print( 'si C es menor a uno es incondicionalmente estable')\n",
    "    else    : print( 'si C es mayor o igula a 1 es potencialmente inestable')\n",
    "    \n",
    "    \n",
    "def stern(y, yg, yl):\n",
    "    ya = y[0,1]* y[1,0]\n",
    "    K = (2*(yg.real+y[0,0].real)*(yl.real+y[1,1].real))/( abs(ya) + ya.real )\n",
    "    print('###############  Stern   #####################')\n",
    "    print('coeficiente de Stern K=', K)\n",
    "    print('si k es MAYOR a 1 no oscilara' )   \n",
    "\n",
    "def Ar(y,yg,yo): # vo/ig\n",
    "    ya = y[0,1]* y[1,0]\n",
    "    Ar = -y[1,0]/((y[0,0]+yg)*(y[1,1]+yl)-ya)\n",
    "    print('###############  Ganancia de transresistencia (vo/ig)   #########')\n",
    "    print( 'vo/ig = {:4.2F}' .format(abs(Ar)))\n",
    "    print( 'vo/ig = {:4.2F} dB' .format(20*np.log10(abs(Ar)))) \n",
    "    \n",
    "def At(y,yg,yl) :  \n",
    "    ya = y[0,1]* y[1,0]\n",
    "    pgain = 4*yg.real*yl.real*abs(y[1,0])**2 / (abs((yl+y[1,1])*(y[0,0]+yg)-ya))**2\n",
    "    print('###############  Ganancia de potencia   #####################')\n",
    "    print( 'Power Gain = {:4.2F}' .format(pgain))\n",
    "    print( 'Power Gain = {:4.2F} dB' .format(10*np.log10(pgain)))    \n",
    "    \n",
    "    \n",
    "def neutraliza(y,wo,n = 1):\n",
    "    Cn = -y[0,1].imag/wo*n\n",
    "    y11 =  wo*Cn*1j\n",
    "    y12 =  wo*Cn*1j/n\n",
    "    y21 =  wo*Cn*1j/n\n",
    "    y22 =  wo*Cn*1j/n**2\n",
    "    yn  = np.matrix([[y11, y12],[ y21, y22]])\n",
    "    # cuadripolo resultante\n",
    "    yt  = y + yn\n",
    "    print('cap=',Cn, 'n=', n)\n",
    "    return yt\n",
    "\n",
    "def yg_yl(y):\n",
    "    yl = y[1,1].real - y[1,1].imag*1j\n",
    "    for i in range(20):\n",
    "        yin  = y[0,0] - y[0,1]*y[1,0]/(y[1,1]+yl)\n",
    "        yg   = yin.real - yin.imag*1j\n",
    "        yout = y[1,1] - y[0,1]*y[0,1]/(y[0,0]+yg)\n",
    "        yl   = yout.real - yout.imag*1j\n",
    "    return (yg, yl)\n",
    "\n",
    "\n",
    "def divC(Q,wo,Rin,RL, Cext = 0):\n",
    "    Qm = ((RL/Rin)*(1+Q**2)-1)**0.5\n",
    "    C  = Q/Rin/wo - Cext\n",
    "    Cs = C*(1+1/Q**2)\n",
    "    Cb = Qm/RL/wo\n",
    "    Cbs = Cb*(1+1/Qm**2)\n",
    "    Ca = 1/(1/Cs-1/Cbs)\n",
    "    return(Ca,Cb)"
   ]
  },
  {
   "cell_type": "code",
   "execution_count": 80,
   "metadata": {},
   "outputs": [
    {
     "name": "stdout",
     "output_type": "stream",
     "text": [
      "y11= 5.00E-03+j(1.50E-03)\n",
      "y12= -1.20E-05+j(-2.00E-05)\n",
      "y21= 5.50E-03+j(-3.80E-04)\n",
      "y22= 4.00E-05+j(7.00E-04)\n",
      "###############  LINVILL   #####################\n",
      "coeficiente de linvill C= 0.14\n",
      "si C es menor a uno es incondicionalmente estable\n",
      "######## Entrada #########\n",
      "rin= 1.69E+02\n",
      "cin= 4.48E-12\n",
      "######## Salida #########\n",
      "ro= 2.50E+04\n",
      "co= 1.11E-12\n",
      "###############  Stern   #####################\n",
      "coeficiente de Stern K= 31.7871714588\n",
      "si k es MAYOR a 1 no oscilara\n",
      "###############  Ganancia de transresistencia (vo/ig)   #########\n",
      "vo/ig = 5818.03\n",
      "vo/ig = 75.30 dB\n",
      "###############  Ganancia de potencia   #####################\n",
      "Power Gain = 32.09\n",
      "Power Gain = 15.06 dB\n"
     ]
    }
   ],
   "source": [
    "printY(ytr)\n",
    "\n",
    "# calculo linvill del transistor\n",
    "linvill(ytr)\n",
    "\n",
    "# admitancia de entrada y de salida para MTE\n",
    "(yg,yl) = yg_yl(ytr) \n",
    "\n",
    "printInOut(yg,yl)\n",
    "\n",
    "# stern \n",
    "stern(ytr, yg, yl)\n",
    "\n",
    "Ar(ytr,yg,yl)\n",
    "At(ytr,yg,yl)"
   ]
  },
  {
   "cell_type": "markdown",
   "metadata": {},
   "source": [
    "Dos etapas sintonizadas sincronicas, realizadas con 1 transistor.\n",
    "Qc = 32 \n",
    "fo = 100MHz"
   ]
  },
  {
   "cell_type": "code",
   "execution_count": 81,
   "metadata": {},
   "outputs": [
    {
     "name": "stdout",
     "output_type": "stream",
     "text": [
      "47.05882352941177\n",
      "23.0621841326\n",
      "L2= 4.22456096053e-07\n",
      "C2a= 7.94204365587e-12\n",
      "C2b= 2.44697373546e-11\n",
      "(7.940661843109191e-12, 2.4448105255296896e-11)\n"
     ]
    }
   ],
   "source": [
    "rg = 50\n",
    "rl = 1500\n",
    "\n",
    "Qo =100\n",
    "Qc = 32\n",
    "\n",
    "# dado el transistor\n",
    "ri = 1/yg.real\n",
    "bi = -yg.imag\n",
    "ro = 1/yl.real\n",
    "bo = -yl.imag\n",
    "\n",
    "\n",
    "\n",
    "\n"
   ]
  },
  {
   "cell_type": "code",
   "execution_count": 88,
   "metadata": {},
   "outputs": [
    {
     "name": "stdout",
     "output_type": "stream",
     "text": [
      "47.05882352941177\n",
      "23.0621841326\n",
      "L2= 4.22456096053e-07\n",
      "C2a= 6.46645058031e-12\n",
      "C2b= 1.99233791922e-11\n",
      "(6.0980279632137782e-12, 2.4448105255296896e-11)\n"
     ]
    }
   ],
   "source": [
    "\n",
    "## Salida\n",
    "# calculo Q sintonizados\n",
    "Qs = 1/(1/Qc-1/Qo)\n",
    "print(Qs)\n",
    "\n",
    "# Calculo de componentes\n",
    "rext = ro/2\n",
    "L2 = (1/Qs)*rext/wo \n",
    "\n",
    "C2 = 1/(wo**2*L2) - bo/wo\n",
    "\n",
    "# divisor capaticitivo\n",
    "# forma aproximada\n",
    "n = (ro/rl)**0.5\n",
    "Qm = 2*Qs/n\n",
    "print(Qm)\n",
    "C2a = C2 *n/(n-1)\n",
    "C2b = C2 *n\n",
    "\n",
    "# Muestra resultados\n",
    "print('L2=',L2)\n",
    "print('C2a=',C2a)\n",
    "print('C2b=',C2b)\n",
    "\n",
    "# sin aproximar\n",
    "print(divC(Qs*2,wo,ro,rl, bo/wo))\n",
    "\n"
   ]
  },
  {
   "cell_type": "code",
   "execution_count": 94,
   "metadata": {},
   "outputs": [
    {
     "name": "stdout",
     "output_type": "stream",
     "text": [
      "4.21055949158\n",
      "L1= 4.22456096053e-07\n",
      "L1a= 2.85629010467e-09\n",
      "C1a= 6.24503090207e-12\n",
      "C1b= 1.33348677603e-10\n"
     ]
    }
   ],
   "source": [
    "# Q de los sintonizados\n",
    "Qs  = 1/(1/Qc-1/Qo)\n",
    "# R tope de bobina\n",
    "rt = ro\n",
    "# calculo Adaptador de entrada\n",
    "rext = rt/2\n",
    "L1 = (1/Qs)*rext/wo \n",
    "\n",
    "# transformador\n",
    "n = (rt/ri)**0.5\n",
    "L1a = L1/n**2 \n",
    "\n",
    "\n",
    "C1 = 1/(wo**2*L1) - (bi/n**2)/wo\n",
    "\n",
    "\n",
    "\n",
    "# divisor capaticitivo\n",
    "n = (rt/rg)**0.5\n",
    "Qm = 2*Qs/n\n",
    "print(Qm)\n",
    "C1a = C1 *n/(n-1)\n",
    "C1b = C1 *n\n",
    "\n",
    "# sin aproximar\n",
    "#C1a,C1b = divC(Qs*2,wo,rt,rg)\n",
    "\n",
    "print('L1=',L1)\n",
    "print('L1a=',L1a)\n",
    "print('C1a=',C1a)\n",
    "print('C1b=',C1b)\n",
    "\n"
   ]
  },
  {
   "cell_type": "code",
   "execution_count": 95,
   "metadata": {},
   "outputs": [
    {
     "name": "stdout",
     "output_type": "stream",
     "text": [
      ".param g11=  0.005\n",
      ".param g12= -1.2000E-05\n",
      ".param g21= 5.5000E-03\n",
      ".param g22= 4.0000E-05\n",
      ".param c11= 2.3873E-12\n",
      ".param c12= -3.1831E-14\n",
      ".param c21= -6.0479E-13\n",
      ".param c22= 1.1141E-12\n"
     ]
    }
   ],
   "source": [
    "# transistor\n",
    "\n",
    "getSpice(ytr)\n",
    "\n"
   ]
  },
  {
   "cell_type": "code",
   "execution_count": 96,
   "metadata": {},
   "outputs": [
    {
     "name": "stdout",
     "output_type": "stream",
     "text": [
      ".param c1a= 6.2450E-12\n",
      ".param c1b= 1.3335E-10\n",
      ".param L1= 4.2246E-07\n",
      ".param L1a= 2.8563E-09\n",
      ".param rp1= 2.6544E+04\n"
     ]
    }
   ],
   "source": [
    "# sintonizado entrada\n",
    "print( '.param c1a= {0:6.4E}' .format(C1a))\n",
    "print( '.param c1b= {0:6.4E}' .format(C1b))\n",
    "print( '.param L1= {0:6.4E}' .format(L1))\n",
    "print( '.param L1a= {0:6.4E}' .format(L1a))\n",
    "print( '.param rp1= {0:6.4E}' .format(Qo*L1*wo))\n"
   ]
  },
  {
   "cell_type": "code",
   "execution_count": 97,
   "metadata": {},
   "outputs": [
    {
     "name": "stdout",
     "output_type": "stream",
     "text": [
      ".param c2a= 6.4665E-12\n",
      ".param c2b= 1.9923E-11\n",
      ".param L2= 4.2246E-07\n",
      ".param rp2= 2.6544E+04\n"
     ]
    }
   ],
   "source": [
    "# sintonizado salida\n",
    "print( '.param c2a= {0:6.4E}' .format(C2a))\n",
    "print( '.param c2b= {0:6.4E}' .format(C2b))\n",
    "print( '.param L2= {0:6.4E}' .format(L2))\n",
    "print( '.param rp2= {0:6.4E}' .format(Qo*L2*wo))"
   ]
  },
  {
   "cell_type": "code",
   "execution_count": null,
   "metadata": {},
   "outputs": [],
   "source": []
  }
 ],
 "metadata": {
  "kernelspec": {
   "display_name": "Python 3",
   "language": "python",
   "name": "python3"
  },
  "language_info": {
   "codemirror_mode": {
    "name": "ipython",
    "version": 3
   },
   "file_extension": ".py",
   "mimetype": "text/x-python",
   "name": "python",
   "nbconvert_exporter": "python",
   "pygments_lexer": "ipython3",
   "version": "3.5.5"
  }
 },
 "nbformat": 4,
 "nbformat_minor": 2
}
