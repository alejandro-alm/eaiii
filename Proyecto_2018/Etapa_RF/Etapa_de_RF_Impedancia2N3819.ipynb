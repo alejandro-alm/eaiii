{
 "cells": [
  {
   "cell_type": "code",
   "execution_count": 47,
   "metadata": {},
   "outputs": [],
   "source": [
    "import math\n",
    "import numpy as np\n",
    "import cmath \n"
   ]
  },
  {
   "cell_type": "code",
   "execution_count": 48,
   "metadata": {},
   "outputs": [],
   "source": [
    "fo = 100e6\n",
    "wo = 2*np.pi*fo\n",
    "\n",
    "y11 =   5.00e-3 + 1.50e-3*1j\n",
    "y12 = - 0.012e-3 - 0.02e-3*1j\n",
    "y21 = - 5.50e-3 - 0.38e-3*1j \n",
    "y22 =   0.04e-3 + 0.70e-3*1j"
   ]
  },
  {
   "cell_type": "code",
   "execution_count": 49,
   "metadata": {},
   "outputs": [
    {
     "name": "stdout",
     "output_type": "stream",
     "text": [
      "###  CUADRIPOLO ##\n",
      "2N3819, Common gate, fo=100MHz\n",
      "y11= 5.00E-03+j(1.50E-03)\n",
      "y12= -1.20E-05+j(-2.00E-05)\n",
      "y21= -5.50E-03+j(-3.80E-04)\n",
      "y22= 4.00E-05+j(7.00E-04)\n",
      "Polar\n",
      "|y11|= 5.2202E-03, <y11=   16.7\n",
      "|y12|= 2.3324E-05, <y12= -121.0\n",
      "|y21|= 5.5131E-03, <y21= -176.0\n",
      "|y22|= 7.0114E-04, <y22=   86.7\n"
     ]
    }
   ],
   "source": [
    "print( '###  CUADRIPOLO ##')\n",
    "print( '2N3819, Common gate, fo=100MHz')\n",
    "print( 'y11= {0.real:4.2E}+j({0.imag:4.2E})' .format(y11) )\n",
    "print( 'y12= {0.real:4.2E}+j({0.imag:4.2E})' .format(y12) )\n",
    "print( 'y21= {0.real:4.2E}+j({0.imag:4.2E})' .format(y21) )\n",
    "print( 'y22= {0.real:4.2E}+j({0.imag:4.2E})' .format(y22) )\n",
    "\n",
    "\n",
    "print('Polar')\n",
    "print( '|y11|= {0:6.4E}, <y11= {1:6.1F}' .format(abs(y11), cmath.phase(y11)*180./np.pi) )\n",
    "print( '|y12|= {0:6.4E}, <y12= {1:6.1F}' .format(abs(y12), cmath.phase(y12)*180./np.pi) )\n",
    "print( '|y21|= {0:6.4E}, <y21= {1:6.1F}' .format(abs(y21), cmath.phase(y21)*180./np.pi) )\n",
    "print( '|y22|= {0:6.4E}, <y22= {1:6.1F}' .format(abs(y22), cmath.phase(y22)*180./np.pi) )\n",
    "\n",
    "\n",
    "\n"
   ]
  },
  {
   "cell_type": "code",
   "execution_count": 50,
   "metadata": {},
   "outputs": [
    {
     "name": "stdout",
     "output_type": "stream",
     "text": [
      "###############  LINVILL   #####################\n",
      "coeficiente de linvill C= 0.38\n",
      "si C es menor a uno es incondicionalmente estable\n",
      "si C es mayor o igula a 1 es potencialmente inestable\n",
      "###############  Admintacias entrada y salida   #####################\n",
      "yin = 3.96E-03 +j 6.80E-05\n",
      "yout= 3.16E-05 +j 6.89E-04\n",
      "###############  Admintacias generador y carga   #####################\n",
      "yg= 3.96E-03 +j (-6.80E-05)\n",
      "rg= 2.53E+02\n",
      "Lg= 2.34E-05\n",
      "yl= 3.16E-05 +j (-6.89E-04)\n",
      "rl= 3.16E+04\n",
      "Ll= 2.31E-06\n",
      "###############  STERN   #####################\n",
      "coeficiente de stern K= 6.86\n",
      "si K es mayor a uno es estable\n",
      "si K es menor a uno es inestable\n",
      "###############  Ganancia de potencia   #####################\n",
      "Power Gain = 46.19\n",
      "Power Gain = 16.65\n"
     ]
    }
   ],
   "source": [
    "ya = y12*y21\n",
    "\n",
    "linvill = abs(ya)/ (2*y11.real*y22.real-ya.real)\n",
    "\n",
    "print('###############  LINVILL   #####################')\n",
    "print( 'coeficiente de linvill C= {:4.2F}' .format(linvill))\n",
    "print( 'si C es menor a uno es incondicionalmente estable')\n",
    "print( 'si C es mayor o igula a 1 es potencialmente inestable')\n",
    "\n",
    "yl= (y22.real-y22.imag*1j)\n",
    "#print 'siendo yl=', yl,\n",
    "\n",
    "for i in range(10):\n",
    "    yin = y11 - (y21*y12)/(y22+yl)\n",
    "    yg = (yin.real-yin.imag*1j)\n",
    "\n",
    "    yout = y22 - (y21*y12)/(y11+yg)\n",
    "    yl= (yout.real-yout.imag*1j)\n",
    "\n",
    "\n",
    "print('###############  Admintacias entrada y salida   #####################')\n",
    "    \n",
    "print( 'yin = {0.real:4.2E} +j {0.imag:4.2E}' .format(yin) )\n",
    "print( 'yout= {0.real:4.2E} +j {0.imag:4.2E}' .format(yout) )\n",
    "\n",
    "\n",
    "print('###############  Admintacias generador y carga   #####################')\n",
    "print( 'yg= {0.real:4.2E} +j ({0.imag:4.2E})' .format(yg) )\n",
    "print( 'rg= {0:4.2E}' .format(1/yg.real) )\n",
    "print( 'Lg= {0:4.2E}' .format(-1/(yg.imag*2*np.pi*100e6) ) )\n",
    "\n",
    "\n",
    "print( 'yl= {0.real:4.2E} +j ({0.imag:4.2E})' .format(yl) )    \n",
    "print( 'rl= {0:4.2E}' .format(1/yl.real) )\n",
    "print( 'Ll= {0:4.2E}' .format(-1/(yl.imag*2*np.pi*100e6)) )\n",
    "\n",
    "\n",
    "stern   =  (2*(y11.real+yg.real)*(y22.real+yl.real)) / (abs(ya)+ya.real)\n",
    "\n",
    "print('###############  STERN   #####################')\n",
    "print( 'coeficiente de stern K= {:4.2F}' .format(stern))\n",
    "print( 'si K es mayor a uno es estable')\n",
    "print( 'si K es menor a uno es inestable')\n",
    "\n",
    "print('###############  Ganancia de potencia   #####################')\n",
    "\n",
    "pgain = abs(y21)**2*yl.real/ (abs(yl+y22)**2*(y11-ya/(y22+yl)).real)\n",
    "print( 'Power Gain = {:4.2F}' .format(pgain))\n",
    "print( 'Power Gain = {:4.2F}' .format(10*np.log10(pgain)))\n"
   ]
  },
  {
   "cell_type": "code",
   "execution_count": 51,
   "metadata": {},
   "outputs": [
    {
     "name": "stdout",
     "output_type": "stream",
     "text": [
      ".param gg= 3.9559E-03\n",
      ".param Lg= 2.3405E-05\n",
      ".param g11=  0.005\n",
      ".param g12= -1.2000E-05\n",
      ".param g21= -5.5000E-03\n",
      ".param g22= 4.0000E-05\n",
      ".param c11= 2.3873E-12\n",
      ".param c12= -3.1831E-14\n",
      ".param c21= -6.0479E-13\n",
      ".param c22= 1.1141E-12\n",
      ".param gl= 3.1647E-05\n",
      ".param Ll= 2.3115E-06\n"
     ]
    }
   ],
   "source": [
    "print( '.param gg= {0.real:6.4E}' .format(yg.real) )\n",
    "print( '.param Lg= {0.real:6.4E}' .format(-1/(yg.imag*wo)) )\n",
    "\n",
    "print( '.param g11= {0.real:6.4}' .format(y11) )\n",
    "print( '.param g12= {0.real:6.4E}' .format(y12) )\n",
    "print( '.param g21= {0.real:6.4E}' .format(y21) )\n",
    "print( '.param g22= {0.real:6.4E}' .format(y22) )\n",
    "print( '.param c11= {0:6.4E}' .format(y11.imag/(wo)) )\n",
    "print( '.param c12= {0:6.4E}' .format((y12.imag)/(wo)) )\n",
    "print( '.param c21= {0:6.4E}' .format((y21.imag)/(wo)) )\n",
    "print( '.param c22= {0:6.4E}' .format(y22.imag/(wo)) )\n",
    "\n",
    "print( '.param gl= {0.real:6.4E}' .format(yl.real) )\n",
    "print( '.param Ll= {0.real:6.4E}' .format(-1/(yl.imag*wo)) )"
   ]
  },
  {
   "cell_type": "code",
   "execution_count": null,
   "metadata": {},
   "outputs": [],
   "source": []
  },
  {
   "cell_type": "code",
   "execution_count": null,
   "metadata": {},
   "outputs": [],
   "source": []
  }
 ],
 "metadata": {
  "kernelspec": {
   "display_name": "Python 3",
   "language": "python",
   "name": "python3"
  },
  "language_info": {
   "codemirror_mode": {
    "name": "ipython",
    "version": 3
   },
   "file_extension": ".py",
   "mimetype": "text/x-python",
   "name": "python",
   "nbconvert_exporter": "python",
   "pygments_lexer": "ipython3",
   "version": "3.5.5"
  }
 },
 "nbformat": 4,
 "nbformat_minor": 2
}
