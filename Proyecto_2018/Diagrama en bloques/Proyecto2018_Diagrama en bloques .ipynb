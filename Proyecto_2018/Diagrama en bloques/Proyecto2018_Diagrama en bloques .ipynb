{
 "cells": [
  {
   "cell_type": "markdown",
   "metadata": {},
   "source": [
    "Analisis de Simple sintonizados\n",
    "\n",
    "\n"
   ]
  },
  {
   "cell_type": "code",
   "execution_count": 1,
   "metadata": {},
   "outputs": [],
   "source": [
    "import numpy as np\n",
    "import scipy as sp\n",
    "from math import cos, log10 \n",
    "import matplotlib as mpl\n",
    "import matplotlib.pyplot as plt\n",
    "from IPython.display import Image  \n",
    "from IPython.display import Image  \n",
    "%matplotlib inline\n",
    "params = {'legend.fontsize': 24,\n",
    "          'figure.figsize': (12, 5),\n",
    "         'axes.labelsize': 24,\n",
    "         'axes.titlesize': 24,\n",
    "         'xtick.labelsize':24,\n",
    "         'ytick.labelsize':24}\n",
    "plt.rcParams.update(params)\n",
    "\n",
    "def dB(a):\n",
    "    return 20*np.log10(a)"
   ]
  },
  {
   "cell_type": "code",
   "execution_count": 2,
   "metadata": {},
   "outputs": [],
   "source": [
    "#Simple Sintonizado\n",
    "# calcula Q y F\n",
    "# Simple Sintonizado \n",
    "def FiltroSS(fo,BW,m):\n",
    "    k = list()\n",
    "    for n in range(m):\n",
    "        Qi = (((2)**(1/m) -1 )**.5) /((1+BW/2/fo)**2-1)\n",
    "        Fi = fo \n",
    "        k.append((Qi,Fi))\n",
    "    return k\n",
    "\n",
    "#Butterworth\n",
    "def FiltroBT(fo,BW,m):\n",
    "    k = list()\n",
    "    for n in range(m):\n",
    "        Qi = fo/BW/np.sin((2*n+1)/m*np.pi/2)\n",
    "        Fi = fo - BW/2*np.cos((2*n+1)/m*np.pi/2)\n",
    "        k.append((Qi,Fi))\n",
    "    return k\n",
    "\n",
    "#Chevishev\n",
    "def FiltroCV(fo,BW,m):\n",
    "    k = list()\n",
    "    for n in range(m):\n",
    "        Qi = (fo/BW/np.sin((2*n+1)/m*np.pi/2))/np.sinh(0.88137/m)\n",
    "        Fi = fo - BW/2*np.cos((2*n+1)/m*np.pi/2)*np.cosh(0.88137/m)\n",
    "        k.append((Qi,Fi))\n",
    "    return k\n",
    "\n",
    "\n",
    "def SSi(f,a,fo,Q,g):\n",
    "    return g*a/(1+ (Q*((f/fo)**2-1))**2)**0.5\n",
    "\n",
    "#Respuesta \n",
    "def RSS(freq,   a, fo, Q , g):\n",
    "    a = np.array([SSi(f,a,fo,Q,g) for f in freq])\n",
    "    return a\n",
    "\n",
    "def Filtro( freq,a,kf, g):\n",
    "    af = [a[i] for i in range(len(a))]\n",
    "    for (Q,fo) in kf:\n",
    "        for i, a in enumerate(af):\n",
    "            af[i] = SSi(freq[i],a,fo,Q,g)\n",
    "    return af\n",
    "\n",
    "def plotStage(fci,fcoi,fo,fcos,fcs,fimg,k):\n",
    "    Ao = dB(Filtro([fo  ],[1],k,1))\n",
    "\n",
    "    print('|A(',fci/1e6,' MHz)|=',dB(Filtro([fci ],[1],k,1))-Ao, 'dB') \n",
    "    print('|A(',fcoi/1e6,' MHz)|=',dB(Filtro([fcoi],[1],k,1))-Ao, 'dB') \n",
    "    print('|A(',fcos/1e6,' MHz)|=',dB(Filtro([fcos],[1],k,1))-Ao, 'dB') \n",
    "    print('|A(',fcs/1e6 ,' MHz)|=',dB(Filtro([fcs ],[1],k,1))-Ao, 'dB') \n",
    "    print('|A(',fimg/1e6,' MHz)|=',dB(Filtro([fimg],[1],k,1))-Ao, 'dB') \n",
    "\n",
    "    plt.plot(freq,20*np.log10(Filtro(freq,atest,k,1)))\n",
    "\n",
    "    plt.plot(fimg,dB(Filtro([fimg],[1],k,1)) ,'ro')\n",
    "    plt.plot(fci ,dB(Filtro([fci ],[1],k,1)) ,'go')\n",
    "    plt.plot(fcs ,dB(Filtro([fcs ],[1],k,1)) ,'go')\n",
    "    plt.plot(fcos,dB(Filtro([fcos],[1],k,1)) ,'bx')\n",
    "    plt.plot(fcoi,dB(Filtro([fcoi],[1],k,1)) ,'bx')\n"
   ]
  },
  {
   "cell_type": "code",
   "execution_count": 3,
   "metadata": {},
   "outputs": [],
   "source": [
    "#Datos\n",
    "BWo  = 20e3\n",
    "fco  = 100e6\n",
    "fif1 = 10.7e6\n",
    "fif2 = 455e3\n",
    "dfch = 50e3\n",
    "# Foscilador\n",
    "fol1 = fco  + fif1 \n",
    "fol2 = fif1 + fif2 \n",
    "\n",
    "# imagen\n",
    "fimg1   = fol1+2*fif1\n",
    "fimg2   = fol2+2*fif2"
   ]
  },
  {
   "cell_type": "code",
   "execution_count": 4,
   "metadata": {},
   "outputs": [],
   "source": [
    "# Defino el sampleo \n",
    "fmax = 500e6         # MHz\n",
    "Fs   = fmax*2 #Sps \n",
    "\n",
    "# Ventana de tiempo del analisis \n",
    "StepFourier = 0.001e6 # MHz\n",
    "T           = 1/StepFourier \n",
    "\n",
    "# Array de tiempo \n",
    "time  = np.arange(0, T, 1/Fs)\n",
    "\n",
    "# Numero de elementos de time\n",
    "nt    = len(time)\n",
    "\n",
    "# Espectro de la frecuencia\n",
    "# la separacion de las deltas = 1/T \n",
    "freq  =  np.arange(0,fmax,1/T)\n",
    "atest =  np.array([1 for f in freq]) "
   ]
  },
  {
   "cell_type": "code",
   "execution_count": 5,
   "metadata": {},
   "outputs": [
    {
     "name": "stdout",
     "output_type": "stream",
     "text": [
      "[(32.01961457241704, 10000000.0), (32.01961457241704, 10000000.0)]\n"
     ]
    }
   ],
   "source": [
    "kh = FiltroSS(10e6,0.2e6,2)\n",
    "print(kh)"
   ]
  },
  {
   "cell_type": "code",
   "execution_count": 11,
   "metadata": {},
   "outputs": [
    {
     "name": "stdout",
     "output_type": "stream",
     "text": [
      "[(42.74598607924108, 100000000.0), (42.74598607924108, 100000000.0)]\n",
      "|A( 99.25  MHz)|= [-2.97234116] dB\n",
      "|A( 99.99  MHz)|= [-0.00063475] dB\n",
      "|A( 100.01  MHz)|= [-0.00063488] dB\n",
      "|A( 100.75  MHz)|= [-3.01029996] dB\n",
      "|A( 132.1  MHz)|= [-60.13158003] dB\n"
     ]
    },
    {
     "data": {
      "image/png": "[encoded data removed]",
      "text/plain": [
       "<matplotlib.figure.Figure at 0x7f6c1c3d38d0>"
      ]
     },
     "metadata": {},
     "output_type": "display_data"
    }
   ],
   "source": [
    "#Filtro RF  para eliminar frecuencia imagen\n",
    "grf   = 1  # atenuacion\n",
    "m     = 2  # numero de etapas\n",
    "BWrf  = 1.5e6 # ancho de banda  \n",
    "krf = FiltroSS(fco,BWrf,m)\n",
    "print(krf)\n",
    "\n",
    "k    = krf\n",
    "fo   = fco\n",
    "BW   = BWrf\n",
    "\n",
    "fol  = fol1\n",
    "fci  = fo - BW/2\n",
    "fcs  = fo + BW/2\n",
    "fcos = fo + BWo/2\n",
    "fcoi = fo - BWo/2\n",
    "fimg = fimg1\n",
    "\n",
    "plotStage(fci,fcoi,fo,fcos,fcs,fimg,k)\n",
    "plt.xlim([90e6, 135e6])\n",
    "plt.ylim([-60 , 2])\n",
    "plt.show()"
   ]
  },
  {
   "cell_type": "code",
   "execution_count": 13,
   "metadata": {},
   "outputs": [
    {
     "name": "stdout",
     "output_type": "stream",
     "text": [
      "[(107.00000000000001, 10613397.459621556), (53.5, 10700000.0), (107.00000000000001, 10786602.540378444)]\n",
      "|A( 10.6  MHz)|= [-2.857594] dB\n",
      "|A( 10.69  MHz)|= [ 0.0153138] dB\n",
      "|A( 10.71  MHz)|= [-0.01530846] dB\n",
      "|A( 10.8  MHz)|= [-3.16201015] dB\n",
      "|A( 12.065  MHz)|= [-69.71494438] dB\n"
     ]
    },
    {
     "data": {
      "image/png": "[encoded data removed]",
      "text/plain": [
       "<matplotlib.figure.Figure at 0x7f6c16f70b70>"
      ]
     },
     "metadata": {},
     "output_type": "display_data"
    }
   ],
   "source": [
    "#Filtro 1FI\n",
    "gif   = 1.  # atenuacion\n",
    "mi    = 3  # numero de etapas\n",
    "BWif  = 0.2e6 # ancho de banda  \n",
    "kif = FiltroBT(fif1,BWif,mi)\n",
    "print(kif)\n",
    "\n",
    "BW = BWif\n",
    "k  = kif\n",
    "fo = fif1\n",
    "fci  = fo - BW/2\n",
    "fcs  = fo + BW/2\n",
    "fcos = fo + BWo/2\n",
    "fcoi = fo - BWo/2\n",
    "fimg = fimg2\n",
    "\n",
    "plotStage(fci,fcoi,fo,fcos,fcs,fimg,k)\n",
    "plt.xlim([9e6, 13e6])\n",
    "plt.ylim([-80 , 0])\n",
    "plt.show()\n"
   ]
  },
  {
   "cell_type": "code",
   "execution_count": 8,
   "metadata": {},
   "outputs": [
    {
     "name": "stdout",
     "output_type": "stream",
     "text": [
      "[(45.500000000000007, 446339.74596215563), (22.75, 455000.0), (45.500000000000007, 463660.25403784437)]\n",
      "|A( 0.445  MHz)|= [-2.6495844] dB\n",
      "|A( 0.445  MHz)|= [-2.6495844] dB\n",
      "|A( 0.465  MHz)|= [-3.36550811] dB\n",
      "|A( 0.465  MHz)|= [-3.36550811] dB\n",
      "|A( 0.505  MHz)|= [-43.30627776] dB\n"
     ]
    },
    {
     "data": {
      "image/png": "[encoded data removed]",
      "text/plain": [
       "<matplotlib.figure.Figure at 0x7f6c1c42d3c8>"
      ]
     },
     "metadata": {},
     "output_type": "display_data"
    }
   ],
   "source": [
    "#Filtro 2FI\n",
    "gif2   = 1.  # atenuacion\n",
    "mi2    = 3  # numero de etapas\n",
    "BWif2  = BWo # ancho de banda  \n",
    "kif2 = FiltroBT(fif2,BWif2,mi2)\n",
    "print(kif2)\n",
    "\n",
    "k  = kif2\n",
    "fo = fif2\n",
    "BW = BWif2\n",
    "\n",
    "fci  = fo - BW/2\n",
    "fcs  = fo + BW/2\n",
    "fcos = fo + BWo/2\n",
    "fcoi = fo - BWo/2\n",
    "fimg = fo + dfch\n",
    "\n",
    "plotStage(fci,fcoi,fo,fcos,fcs,fimg,k)\n",
    "plt.xlim([0.4e6, 0.6e6])\n",
    "plt.ylim([-60 , -10])\n",
    "plt.show()"
   ]
  },
  {
   "cell_type": "code",
   "execution_count": null,
   "metadata": {},
   "outputs": [],
   "source": []
  }
 ],
 "metadata": {
  "kernelspec": {
   "display_name": "Python 3",
   "language": "python",
   "name": "python3"
  },
  "language_info": {
   "codemirror_mode": {
    "name": "ipython",
    "version": 3
   },
   "file_extension": ".py",
   "mimetype": "text/x-python",
   "name": "python",
   "nbconvert_exporter": "python",
   "pygments_lexer": "ipython3",
   "version": "3.5.5"
  }
 },
 "nbformat": 4,
 "nbformat_minor": 1
}
